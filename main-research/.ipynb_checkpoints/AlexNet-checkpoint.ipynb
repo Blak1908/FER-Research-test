{
 "cells": [
  {
   "cell_type": "markdown",
   "metadata": {
    "id": "view-in-github"
   },
   "source": [
    "<a href=\"https://colab.research.google.com/github/anishjohnson/Face-Emotion-Recognition/blob/main/FER/Colab%20Notebook/Face_Emotion_Recognition_Anish_Johnson.ipynb\" target=\"_parent\"><img src=\"https://colab.research.google.com/assets/colab-badge.svg\" alt=\"Open In Colab\"/></a>"
   ]
  },
  {
   "cell_type": "markdown",
   "metadata": {
    "id": "URwdYfsiMltF"
   },
   "source": [
    "# **Face Emotion Recognition**\n",
    "\n",
    "\n",
    "\n",
    "\n",
    "\n",
    "\n",
    "\n",
    "\n"
   ]
  },
  {
   "cell_type": "markdown",
   "metadata": {
    "id": "g5RpZlMkPGG2"
   },
   "source": [
    "# **Objective**\n",
    "Our objective is to solve the above mentioned challenge by applying deep learning algorithms to live video data inorder to recognize the facial emotions and categorize them accordingly."
   ]
  },
  {
   "cell_type": "markdown",
   "metadata": {
    "id": "9AGaR26YPV--"
   },
   "source": [
    "# **Dataset used**\n",
    "We have utilized the [FER 2013](https://www.kaggle.com/datasets/msambare/fer2013) dataset provided on Kaggle.<br>\n",
    "The data consists of 48x48 pixel grayscale images of faces. The faces have been automatically registered so that the face is more or less centred and occupies about the same amount of space in each image.<br>\n",
    "\n",
    "The task is to categorize each face based on the emotion shown in the facial expression into one of seven categories (0=Angry, 1=Disgust, 2=Fear, 3=Happy, 4=Sad, 5=Surprise, 6=Neutral). The training set consists of 28,709 examples and the public test set consists of 3,589 examples."
   ]
  },
  {
   "cell_type": "code",
   "execution_count": 1,
   "metadata": {
    "colab": {
     "base_uri": "https://localhost:8080/"
    },
    "executionInfo": {
     "elapsed": 1351,
     "status": "ok",
     "timestamp": 1676186325531,
     "user": {
      "displayName": "DAT TRAN TUAN",
      "userId": "05852791585342980378"
     },
     "user_tz": -420
    },
    "id": "gVjAMoriVm5s",
    "outputId": "1d5e44c9-6ffd-4f1d-a5d5-a9b4da738645"
   },
   "outputs": [
    {
     "name": "stdout",
     "output_type": "stream",
     "text": [
      "Tue Feb 21 10:52:38 2023       \n",
      "+-----------------------------------------------------------------------------+\n",
      "| NVIDIA-SMI 528.33       Driver Version: 528.33       CUDA Version: 12.0     |\n",
      "|-------------------------------+----------------------+----------------------+\n",
      "| GPU  Name            TCC/WDDM | Bus-Id        Disp.A | Volatile Uncorr. ECC |\n",
      "| Fan  Temp  Perf  Pwr:Usage/Cap|         Memory-Usage | GPU-Util  Compute M. |\n",
      "|                               |                      |               MIG M. |\n",
      "|===============================+======================+======================|\n",
      "|   0  NVIDIA GeForce ... WDDM  | 00000000:01:00.0 Off |                  N/A |\n",
      "| N/A   57C    P8     5W /  80W |      0MiB /  6144MiB |      0%      Default |\n",
      "|                               |                      |                  N/A |\n",
      "+-------------------------------+----------------------+----------------------+\n",
      "                                                                               \n",
      "+-----------------------------------------------------------------------------+\n",
      "| Processes:                                                                  |\n",
      "|  GPU   GI   CI        PID   Type   Process name                  GPU Memory |\n",
      "|        ID   ID                                                   Usage      |\n",
      "|=============================================================================|\n",
      "|  No running processes found                                                 |\n",
      "+-----------------------------------------------------------------------------+\n",
      "nvcc: NVIDIA (R) Cuda compiler driver\n",
      "Copyright (c) 2005-2023 NVIDIA Corporation\n",
      "Built on Fri_Jan__6_19:04:39_Pacific_Standard_Time_2023\n",
      "Cuda compilation tools, release 12.0, V12.0.140\n",
      "Build cuda_12.0.r12.0/compiler.32267302_0\n"
     ]
    }
   ],
   "source": [
    "!nvidia-smi\n",
    "!nvcc -V"
   ]
  },
  {
   "cell_type": "markdown",
   "metadata": {
    "id": "mKaCCukeQGGv"
   },
   "source": [
    "### **Let's Begin:**"
   ]
  },
  {
   "cell_type": "markdown",
   "metadata": {
    "id": "n2QTffm_tEDK"
   },
   "source": [
    "# **Data Exploration:**"
   ]
  },
  {
   "cell_type": "markdown",
   "metadata": {
    "id": "5py4G2_K3R3Y"
   },
   "source": [
    "**Lets start by importing the required libraries.**"
   ]
  },
  {
   "cell_type": "code",
   "execution_count": 2,
   "metadata": {
    "colab": {
     "base_uri": "https://localhost:8080/"
    },
    "executionInfo": {
     "elapsed": 3105,
     "status": "ok",
     "timestamp": 1676186328634,
     "user": {
      "displayName": "DAT TRAN TUAN",
      "userId": "05852791585342980378"
     },
     "user_tz": -420
    },
    "id": "OheLkRm1DJ3a",
    "outputId": "b7d82422-cbe0-4338-d46d-9e7bc684fc42"
   },
   "outputs": [
    {
     "name": "stdout",
     "output_type": "stream",
     "text": [
      "Above libraries have been imported.\n"
     ]
    }
   ],
   "source": [
    "# Basic python libraries.\n",
    "import datetime\n",
    "import numpy as np\n",
    "import os\n",
    "import tensorflow as tf\n",
    "import matplotlib.pyplot as plt\n",
    "from tqdm import tqdm\n",
    "from PIL import Image\n",
    "import itertools\n",
    "\n",
    "# Get rid of warnings!\n",
    "import warnings\n",
    "warnings.filterwarnings('ignore')\n",
    "\n",
    "# Deep learning libraries.\n",
    "from sklearn.metrics import confusion_matrix\n",
    "from tensorflow.keras import Model\n",
    "from tensorflow.keras.models import load_model\n",
    "from tensorflow.keras.preprocessing.image import load_img, img_to_array, ImageDataGenerator\n",
    "from tensorflow.keras.utils import plot_model\n",
    "from tensorflow.keras.models import Sequential\n",
    "from tensorflow.keras.utils import to_categorical\n",
    "from tensorflow.keras.losses import categorical_crossentropy\n",
    "from tensorflow.keras.layers import Dense, Flatten, Conv2D, MaxPooling2D, Dropout\n",
    "from keras.optimizers import SGD\n",
    "\n",
    "print('Above libraries have been imported.')"
   ]
  },
  {
   "cell_type": "markdown",
   "metadata": {
    "id": "nKEJMNa45tfB"
   },
   "source": [
    "**Seperate the Training and Validation Data.**"
   ]
  },
  {
   "cell_type": "code",
   "execution_count": 3,
   "metadata": {
    "id": "lKpeEhrw5sSN"
   },
   "outputs": [],
   "source": [
    "# Define the train and validataion data paths.\n",
    "train_dir = 'Dataset/train'\n",
    "val_dir = 'Dataset/test'"
   ]
  },
  {
   "cell_type": "code",
   "execution_count": 4,
   "metadata": {
    "colab": {
     "base_uri": "https://localhost:8080/",
     "height": 169
    },
    "executionInfo": {
     "elapsed": 2273,
     "status": "ok",
     "timestamp": 1676186397104,
     "user": {
      "displayName": "DAT TRAN TUAN",
      "userId": "05852791585342980378"
     },
     "user_tz": -420
    },
    "id": "3bzIXm5UjD-p",
    "outputId": "61ddf88e-3aaa-49e8-af06-95654241b29a"
   },
   "outputs": [
    {
     "data": {
      "image/png": "[encoded data removed]",
      "text/plain": [
       "<Figure size 1800x2200 with 7 Axes>"
      ]
     },
     "metadata": {},
     "output_type": "display_data"
    }
   ],
   "source": [
    "# Define the default image size.\n",
    "img_size = 48\n",
    "\n",
    "# Define the seven emotions provided in dataset.\n",
    "emotion_list = ['angry', 'disgust', 'fear', 'happy', 'sad', 'surprise', 'neutral']\n",
    "\n",
    "# Plot the images with each distinct emotions.\n",
    "plt.figure(figsize=(18,22))\n",
    "i = 1\n",
    "for expression in emotion_list:\n",
    "    img = load_img((train_dir + '/' + expression +'/'+ os.listdir(train_dir + '/' + expression)[59]))\n",
    "    plt.subplot(1,7,i)\n",
    "    plt.imshow(img)\n",
    "    plt.title(expression)\n",
    "    plt.axis('off')\n",
    "    i += 1\n",
    "plt.show()"
   ]
  },
  {
   "cell_type": "markdown",
   "metadata": {
    "id": "_Duo9uIT3PV6"
   },
   "source": [
    "**Have a look at our data.**"
   ]
  },
  {
   "cell_type": "markdown",
   "metadata": {
    "id": "UNCuMOZrGkcx"
   },
   "source": [
    "**Perform some Data Augmentation on train and validations sets.**"
   ]
  },
  {
   "cell_type": "code",
   "execution_count": 5,
   "metadata": {
    "id": "W5qezqUmBdrx"
   },
   "outputs": [],
   "source": [
    "def random_crop(img, random_crop_size):\n",
    "    # Note: image_data_format is 'channel_last'\n",
    "    # SOURCE: https://jkjung-avt.github.io/keras-image-cropping/\n",
    "    assert img.shape[2] == 3\n",
    "    height, width = img.shape[0], img.shape[1]\n",
    "    dy, dx = random_crop_size\n",
    "    x = np.random.randint(0, width - dx + 1)\n",
    "    y = np.random.randint(0, height - dy + 1)\n",
    "    return img[y:(y+dy), x:(x+dx), :]"
   ]
  },
  {
   "cell_type": "markdown",
   "metadata": {
    "id": "vvy5uusVtMAh"
   },
   "source": [
    "# **Data Preprocessing:**"
   ]
  },
  {
   "cell_type": "code",
   "execution_count": 6,
   "metadata": {
    "colab": {
     "base_uri": "https://localhost:8080/"
    },
    "executionInfo": {
     "elapsed": 20,
     "status": "ok",
     "timestamp": 1676186397105,
     "user": {
      "displayName": "DAT TRAN TUAN",
      "userId": "05852791585342980378"
     },
     "user_tz": -420
    },
    "id": "NnZfATJ1GW5T",
    "outputId": "88604ab0-4713-4704-9b41-1e49c65c013a"
   },
   "outputs": [
    {
     "name": "stdout",
     "output_type": "stream",
     "text": [
      "Above data generator functions have been created.\n"
     ]
    }
   ],
   "source": [
    "# Rescale the data.\n",
    "'''\n",
    "Before we proceed we need to rescale our data by multiplying it to 1/255.\n",
    "This is done so we get target values between 0 and 1.\n",
    "'''\n",
    "# Rescale train data.\n",
    "datagen_train = ImageDataGenerator(\n",
    "    rescale=1./255,\n",
    "    shear_range=0.2,\n",
    "    zoom_range=0.2,\n",
    "    horizontal_flip=True\n",
    ")\n",
    "\n",
    "# Rescale validation data.\n",
    "datagen_val = ImageDataGenerator(rescale = 1./255,\n",
    "                                 )\n",
    "\n",
    "print('Above data generator functions have been created.')"
   ]
  },
  {
   "cell_type": "code",
   "execution_count": 7,
   "metadata": {
    "colab": {
     "base_uri": "https://localhost:8080/"
    },
    "executionInfo": {
     "elapsed": 519,
     "status": "ok",
     "timestamp": 1676186397607,
     "user": {
      "displayName": "DAT TRAN TUAN",
      "userId": "05852791585342980378"
     },
     "user_tz": -420
    },
    "id": "pfQSzCIDGWvq",
    "outputId": "3439a3ed-c3a3-4770-9a55-938a8a8f01a6"
   },
   "outputs": [
    {
     "name": "stdout",
     "output_type": "stream",
     "text": [
      "Found 28709 images belonging to 7 classes.\n",
      "Found 7178 images belonging to 7 classes.\n",
      "Train and Validation sets have been created.\n"
     ]
    }
   ],
   "source": [
    "# Perform data augmentation.\n",
    "'''\n",
    "Data augmentation is a technique to artificially create new training data from existing training data. \n",
    "It helps us to increase the size of the dataset and introduce variability in the dataset.\n",
    "'''\n",
    "# Define the default image size.\n",
    "img_size = 48\n",
    "\n",
    "# Define batch size.\n",
    "batch_size = 32\n",
    "\n",
    "                                         \n",
    "# Train data\n",
    "train_set = datagen_train.flow_from_directory(\n",
    "    directory=train_dir,\n",
    "    target_size=(img_size, img_size),\n",
    "    batch_size=batch_size,\n",
    "    class_mode='categorical',\n",
    "    shuffle=True\n",
    ")\n",
    "\n",
    "# Validation data\n",
    "val_set = datagen_train.flow_from_directory(\n",
    "    directory=val_dir,\n",
    "    target_size=(img_size, img_size),\n",
    "    batch_size=batch_size,\n",
    "    class_mode='categorical',\n",
    "    shuffle=False\n",
    ")\n",
    "\n",
    "\n",
    "print('Train and Validation sets have been created.')"
   ]
  },
  {
   "cell_type": "markdown",
   "metadata": {
    "id": "YNBzIZBDQbAm"
   },
   "source": [
    "**Now lets create our custom CNN model.**"
   ]
  },
  {
   "cell_type": "markdown",
   "metadata": {
    "id": "yOwMRBUFuHnp"
   },
   "source": [
    "# **Build CNN Model:**"
   ]
  },
  {
   "cell_type": "markdown",
   "metadata": {
    "id": "YK5yRfKO2r53"
   },
   "source": [
    "**Before we start building the neural network lets understand some of the terms that we will be using.**\n",
    "\n",
    "* **Model = sequential** : A Sequential model is appropriate for a plain stack of layers where each layer has exactly one input tensor and one output tensor.\n",
    "\n",
    "* **Padding** = The padding parameter of the Keras Conv2D class can take one of two values: 'valid' or 'same'. Setting the value to “valid” parameter means that the input volume is not zero-padded and the spatial dimensions are allowed to reduce via the natural application of convolution.\n",
    "\n",
    "* **Activation** = relu :The rectified linear activation function or ReLU for short is a piecewise linear function that will output the input directly if it is positive, otherwise, it will output zero. It has become the default activation function for many types of neural networks because a model that uses it is easier to train and often achieves better performance.\n",
    "\n",
    "* **Maxpooling** = Maximum pooling, or max pooling, is a pooling operation that calculates the maximum, or largest, value in each patch of each feature map. The results are down sampled or pooled feature maps that highlight the most present feature in the patch, not the average presence of the feature in the case of average pooling.\n",
    "\n",
    "* **Batch normalization** = Batch normalization is a technique for training very deep neural networks that standardizes the inputs to a layer for each mini-batch. This has the effect of stabilizing the learning process and dramatically reducing the number of training epochs required to train deep networks.\n",
    "\n",
    "* **Dropout** = Dropout is a technique used to prevent a model from overfitting. Dropout works by randomly setting the outgoing edges of hidden units (neurons that make up hidden layers) to 0 at each update of the training phase.\n",
    "\n",
    "* **Adam** = Adaptive Moment Estimation is an algorithm for optimization technique for gradient descent. The method is really efficient when working with large problem involving a lot of data or parameters. It requires less memory and is efficient. Intuitively, it is a combination of the ‘gradient descent with momentum’ algorithm and the ‘RMSP’ algorithm. It uses the squared gradients to scale the learning rate like RMSprop and it takes advantage of momentum by using moving average of the gradient instead of gradient itself like SGD with momentum."
   ]
  },
  {
   "cell_type": "code",
   "execution_count": 8,
   "metadata": {
    "id": "dnxVTMKcGWjd"
   },
   "outputs": [],
   "source": [
    "class AlexNet(Sequential):\n",
    "  def __init__(self, input_shape, num_classes, dropout_rate=0.1):\n",
    "    super().__init__()\n",
    "\n",
    "    self.add(Conv2D(64, kernel_size = (3,3),\n",
    "                    strides= 2, \n",
    "                    padding = 'valid', \n",
    "                    activation = 'relu',\n",
    "                    input_shape= input_shape,\n",
    "                    kernel_initializer= 'he_normal'\n",
    "                    ))\n",
    "    \n",
    "    self.add(MaxPooling2D(pool_size=(3,3), \n",
    "                          strides= (2,2),\n",
    "                          padding= 'valid', \n",
    "                          data_format= None))\n",
    "    \n",
    "\n",
    "    self.add(Conv2D(128, kernel_size=(3,3), \n",
    "                    strides= 1,\n",
    "                    padding= 'same', \n",
    "                    activation= 'relu',\n",
    "                    kernel_initializer= 'he_normal'))\n",
    "    \n",
    "    self.add(MaxPooling2D(pool_size=(3,3), \n",
    "                          strides= (2,2),\n",
    "                          padding= 'valid', \n",
    "                          data_format= None)) \n",
    "\n",
    "\n",
    "    self.add(Conv2D(256, kernel_size=(3,3), \n",
    "                    strides= 1,\n",
    "                    padding= 'same', activation= 'relu',\n",
    "                        kernel_initializer= 'he_normal'))\n",
    "    \n",
    "    self.add(MaxPooling2D(pool_size=(3,3), \n",
    "                          strides= (2,2),\n",
    "                          padding= 'valid', \n",
    "                          data_format= None)) \n",
    "\n",
    "\n",
    "    self.add(Conv2D(512, kernel_size=(3,3), \n",
    "                    strides= 1,\n",
    "                    padding= 'same', \n",
    "                    activation= 'relu',\n",
    "                    kernel_initializer= 'he_normal'))\n",
    "\n",
    "    self.add(MaxPooling2D(pool_size=(2,2), \n",
    "                          strides= (2,2),\n",
    "                          padding= 'valid', \n",
    "                          data_format= None))\n",
    "\n",
    "\n",
    "    self.add(Flatten())\n",
    "    self.add(Dense(4096, activation= 'relu'))\n",
    "    self.add(Dropout(dropout_rate))\n",
    "    self.add(Dense(4096, activation= 'relu'))\n",
    "    self.add(Dropout(dropout_rate))\n",
    "    self.add(Dense(1000, activation= 'relu'))\n",
    "    self.add(Dropout(dropout_rate))\n",
    "    self.add(Dense(1000, activation= 'relu'))\n",
    "    self.add(Dropout(dropout_rate))\n",
    "    self.add(Dense(1000, activation= 'relu'))\n",
    "    self.add(Dropout(dropout_rate))\n",
    "    self.add(Dense(num_classes, activation= 'softmax'))\n",
    "\n",
    "    opt = SGD(lr=0.01)\n",
    "    self.compile(loss='categorical_crossentropy', optimizer=opt, metrics=['accuracy'])\n"
   ]
  },
  {
   "cell_type": "code",
   "execution_count": 9,
   "metadata": {
    "colab": {
     "base_uri": "https://localhost:8080/"
    },
    "executionInfo": {
     "elapsed": 751771,
     "status": "ok",
     "timestamp": 1676187159371,
     "user": {
      "displayName": "DAT TRAN TUAN",
      "userId": "05852791585342980378"
     },
     "user_tz": -420
    },
    "id": "RkgDCp9csotr",
    "outputId": "3f0e7591-2e61-4f84-aaad-2b3a6ff07995"
   },
   "outputs": [
    {
     "name": "stdout",
     "output_type": "stream",
     "text": [
      "Epoch 1/100\n",
      "897/897 [==============================] - 34s 35ms/step - loss: 1.8203 - accuracy: 0.2478 - val_loss: 1.8101 - val_accuracy: 0.2475\n",
      "Epoch 2/100\n",
      "897/897 [==============================] - 31s 34ms/step - loss: 1.8035 - accuracy: 0.2535 - val_loss: 1.7829 - val_accuracy: 0.2550\n",
      "Epoch 3/100\n",
      "897/897 [==============================] - 31s 35ms/step - loss: 1.7780 - accuracy: 0.2647 - val_loss: 1.7702 - val_accuracy: 0.2723\n",
      "Epoch 4/100\n",
      "897/897 [==============================] - 29s 33ms/step - loss: 1.7364 - accuracy: 0.2928 - val_loss: 1.6700 - val_accuracy: 0.3352\n",
      "Epoch 5/100\n",
      "897/897 [==============================] - 29s 33ms/step - loss: 1.6754 - accuracy: 0.3343 - val_loss: 1.6114 - val_accuracy: 0.3597\n",
      "Epoch 6/100\n",
      "897/897 [==============================] - 29s 33ms/step - loss: 1.6126 - accuracy: 0.3642 - val_loss: 1.5696 - val_accuracy: 0.3948\n",
      "Epoch 7/100\n",
      "897/897 [==============================] - 30s 33ms/step - loss: 1.5660 - accuracy: 0.3866 - val_loss: 1.4996 - val_accuracy: 0.4245\n",
      "Epoch 8/100\n",
      "897/897 [==============================] - 30s 33ms/step - loss: 1.5234 - accuracy: 0.4049 - val_loss: 1.4890 - val_accuracy: 0.4323\n",
      "Epoch 9/100\n",
      "897/897 [==============================] - 30s 33ms/step - loss: 1.4836 - accuracy: 0.4240 - val_loss: 1.5118 - val_accuracy: 0.4227\n",
      "Epoch 10/100\n",
      "897/897 [==============================] - 29s 33ms/step - loss: 1.4587 - accuracy: 0.4366 - val_loss: 1.4528 - val_accuracy: 0.4297\n",
      "Epoch 11/100\n",
      "897/897 [==============================] - 29s 33ms/step - loss: 1.4312 - accuracy: 0.4473 - val_loss: 1.4043 - val_accuracy: 0.4646\n",
      "Epoch 12/100\n",
      "897/897 [==============================] - 29s 32ms/step - loss: 1.4055 - accuracy: 0.4578 - val_loss: 1.3861 - val_accuracy: 0.4625\n",
      "Epoch 13/100\n",
      "897/897 [==============================] - 29s 33ms/step - loss: 1.3828 - accuracy: 0.4661 - val_loss: 1.4463 - val_accuracy: 0.4322\n",
      "Epoch 14/100\n",
      "897/897 [==============================] - 29s 33ms/step - loss: 1.3592 - accuracy: 0.4748 - val_loss: 1.3676 - val_accuracy: 0.4690\n",
      "Epoch 15/100\n",
      "897/897 [==============================] - 29s 33ms/step - loss: 1.3377 - accuracy: 0.4840 - val_loss: 1.3999 - val_accuracy: 0.4708\n",
      "Epoch 16/100\n",
      "897/897 [==============================] - 31s 34ms/step - loss: 1.3196 - accuracy: 0.4929 - val_loss: 1.3166 - val_accuracy: 0.4883\n",
      "Epoch 17/100\n",
      "897/897 [==============================] - 29s 33ms/step - loss: 1.3020 - accuracy: 0.5013 - val_loss: 1.2930 - val_accuracy: 0.5017\n",
      "Epoch 18/100\n",
      "897/897 [==============================] - 29s 33ms/step - loss: 1.2809 - accuracy: 0.5124 - val_loss: 1.3511 - val_accuracy: 0.4760\n",
      "Epoch 19/100\n",
      "897/897 [==============================] - 29s 33ms/step - loss: 1.2649 - accuracy: 0.5165 - val_loss: 1.2717 - val_accuracy: 0.5116\n",
      "Epoch 20/100\n",
      "897/897 [==============================] - 29s 33ms/step - loss: 1.2452 - accuracy: 0.5264 - val_loss: 1.2518 - val_accuracy: 0.5165\n",
      "Epoch 21/100\n",
      "897/897 [==============================] - 29s 33ms/step - loss: 1.2363 - accuracy: 0.5270 - val_loss: 1.2420 - val_accuracy: 0.5257\n",
      "Epoch 22/100\n",
      "897/897 [==============================] - 30s 33ms/step - loss: 1.2182 - accuracy: 0.5352 - val_loss: 1.2755 - val_accuracy: 0.5140\n",
      "Epoch 23/100\n",
      "897/897 [==============================] - 30s 33ms/step - loss: 1.2073 - accuracy: 0.5407 - val_loss: 1.2689 - val_accuracy: 0.5123\n",
      "Epoch 24/100\n",
      "897/897 [==============================] - 29s 33ms/step - loss: 1.1972 - accuracy: 0.5431 - val_loss: 1.2520 - val_accuracy: 0.5186\n",
      "Epoch 25/100\n",
      "897/897 [==============================] - 29s 32ms/step - loss: 1.1837 - accuracy: 0.5511 - val_loss: 1.2092 - val_accuracy: 0.5371\n",
      "Epoch 26/100\n",
      "897/897 [==============================] - 29s 33ms/step - loss: 1.1782 - accuracy: 0.5525 - val_loss: 1.2500 - val_accuracy: 0.5179\n",
      "Epoch 27/100\n",
      "897/897 [==============================] - 29s 32ms/step - loss: 1.1606 - accuracy: 0.5578 - val_loss: 1.2027 - val_accuracy: 0.5335\n",
      "Epoch 28/100\n",
      "897/897 [==============================] - 29s 32ms/step - loss: 1.1541 - accuracy: 0.5584 - val_loss: 1.1972 - val_accuracy: 0.5488\n",
      "Epoch 29/100\n",
      "897/897 [==============================] - 29s 32ms/step - loss: 1.1405 - accuracy: 0.5676 - val_loss: 1.1861 - val_accuracy: 0.5465\n",
      "Epoch 30/100\n",
      "897/897 [==============================] - 30s 33ms/step - loss: 1.1314 - accuracy: 0.5713 - val_loss: 1.2270 - val_accuracy: 0.5300\n",
      "Epoch 31/100\n",
      "897/897 [==============================] - 30s 33ms/step - loss: 1.1217 - accuracy: 0.5722 - val_loss: 1.2280 - val_accuracy: 0.5306\n",
      "Epoch 32/100\n",
      "897/897 [==============================] - 29s 33ms/step - loss: 1.1121 - accuracy: 0.5787 - val_loss: 1.1954 - val_accuracy: 0.5501\n",
      "Epoch 33/100\n",
      "897/897 [==============================] - 30s 33ms/step - loss: 1.1033 - accuracy: 0.5828 - val_loss: 1.1652 - val_accuracy: 0.5645\n",
      "Epoch 34/100\n",
      "897/897 [==============================] - 29s 33ms/step - loss: 1.0956 - accuracy: 0.5837 - val_loss: 1.2245 - val_accuracy: 0.5375\n",
      "Epoch 35/100\n",
      "897/897 [==============================] - 29s 33ms/step - loss: 1.0826 - accuracy: 0.5893 - val_loss: 1.1526 - val_accuracy: 0.5619\n",
      "Epoch 36/100\n",
      "897/897 [==============================] - 29s 33ms/step - loss: 1.0734 - accuracy: 0.5948 - val_loss: 1.2172 - val_accuracy: 0.5407\n",
      "Epoch 37/100\n",
      "897/897 [==============================] - 29s 33ms/step - loss: 1.0706 - accuracy: 0.5958 - val_loss: 1.1592 - val_accuracy: 0.5635\n",
      "Epoch 38/100\n",
      "897/897 [==============================] - 29s 33ms/step - loss: 1.0563 - accuracy: 0.6014 - val_loss: 1.1722 - val_accuracy: 0.5646\n",
      "Epoch 39/100\n",
      "897/897 [==============================] - 30s 33ms/step - loss: 1.0572 - accuracy: 0.5988 - val_loss: 1.1813 - val_accuracy: 0.5525\n",
      "Epoch 40/100\n",
      "897/897 [==============================] - 29s 33ms/step - loss: 1.0399 - accuracy: 0.6057 - val_loss: 1.1848 - val_accuracy: 0.5610\n",
      "Epoch 41/100\n",
      "897/897 [==============================] - 29s 32ms/step - loss: 1.0295 - accuracy: 0.6128 - val_loss: 1.1652 - val_accuracy: 0.5598\n",
      "Epoch 42/100\n",
      "897/897 [==============================] - 29s 33ms/step - loss: 1.0245 - accuracy: 0.6153 - val_loss: 1.1673 - val_accuracy: 0.5601\n",
      "Epoch 43/100\n",
      "897/897 [==============================] - 29s 33ms/step - loss: 1.0133 - accuracy: 0.6187 - val_loss: 1.1493 - val_accuracy: 0.5685\n",
      "Epoch 44/100\n",
      "897/897 [==============================] - 29s 33ms/step - loss: 1.0098 - accuracy: 0.6212 - val_loss: 1.1701 - val_accuracy: 0.5658\n",
      "Epoch 45/100\n",
      "897/897 [==============================] - 29s 33ms/step - loss: 0.9971 - accuracy: 0.6258 - val_loss: 1.1305 - val_accuracy: 0.5758\n",
      "Epoch 46/100\n",
      "897/897 [==============================] - 29s 33ms/step - loss: 0.9908 - accuracy: 0.6290 - val_loss: 1.1647 - val_accuracy: 0.5678\n",
      "Epoch 47/100\n",
      "897/897 [==============================] - 29s 33ms/step - loss: 0.9762 - accuracy: 0.6342 - val_loss: 1.1517 - val_accuracy: 0.5699\n",
      "Epoch 48/100\n",
      "897/897 [==============================] - 30s 33ms/step - loss: 0.9658 - accuracy: 0.6383 - val_loss: 1.1554 - val_accuracy: 0.5714\n",
      "Epoch 49/100\n",
      "897/897 [==============================] - 29s 33ms/step - loss: 0.9643 - accuracy: 0.6387 - val_loss: 1.1368 - val_accuracy: 0.5752\n",
      "Epoch 50/100\n",
      "897/897 [==============================] - 30s 33ms/step - loss: 0.9526 - accuracy: 0.6417 - val_loss: 1.1352 - val_accuracy: 0.5802\n",
      "Epoch 51/100\n",
      "897/897 [==============================] - 30s 33ms/step - loss: 0.9420 - accuracy: 0.6500 - val_loss: 1.1363 - val_accuracy: 0.5812\n",
      "Epoch 52/100\n",
      "897/897 [==============================] - 29s 32ms/step - loss: 0.9335 - accuracy: 0.6497 - val_loss: 1.1462 - val_accuracy: 0.5734\n",
      "Epoch 53/100\n",
      "897/897 [==============================] - 28s 31ms/step - loss: 0.9235 - accuracy: 0.6509 - val_loss: 1.1712 - val_accuracy: 0.5727\n",
      "Epoch 54/100\n",
      "897/897 [==============================] - 28s 31ms/step - loss: 0.9166 - accuracy: 0.6570 - val_loss: 1.1441 - val_accuracy: 0.5760\n",
      "Epoch 55/100\n",
      "897/897 [==============================] - 28s 31ms/step - loss: 0.9070 - accuracy: 0.6628 - val_loss: 1.2019 - val_accuracy: 0.5758\n",
      "Epoch 56/100\n",
      "897/897 [==============================] - 28s 31ms/step - loss: 0.8965 - accuracy: 0.6647 - val_loss: 1.1412 - val_accuracy: 0.5818\n",
      "Epoch 57/100\n"
     ]
    },
    {
     "name": "stdout",
     "output_type": "stream",
     "text": [
      "897/897 [==============================] - 28s 31ms/step - loss: 0.8813 - accuracy: 0.6707 - val_loss: 1.1480 - val_accuracy: 0.5869\n",
      "Epoch 58/100\n",
      "897/897 [==============================] - 28s 31ms/step - loss: 0.8787 - accuracy: 0.6756 - val_loss: 1.1639 - val_accuracy: 0.5855\n",
      "Epoch 59/100\n",
      "897/897 [==============================] - 28s 31ms/step - loss: 0.8783 - accuracy: 0.6739 - val_loss: 1.1560 - val_accuracy: 0.5840\n",
      "Epoch 60/100\n",
      "897/897 [==============================] - 28s 31ms/step - loss: 0.8623 - accuracy: 0.6790 - val_loss: 1.1668 - val_accuracy: 0.5869\n",
      "Epoch 61/100\n",
      "897/897 [==============================] - 28s 31ms/step - loss: 0.8525 - accuracy: 0.6818 - val_loss: 1.1423 - val_accuracy: 0.5855\n",
      "Epoch 62/100\n",
      "897/897 [==============================] - 28s 31ms/step - loss: 0.8420 - accuracy: 0.6881 - val_loss: 1.1781 - val_accuracy: 0.5804\n",
      "Epoch 63/100\n",
      "897/897 [==============================] - 28s 31ms/step - loss: 0.8298 - accuracy: 0.6927 - val_loss: 1.1931 - val_accuracy: 0.5811\n",
      "Epoch 64/100\n",
      "897/897 [==============================] - 28s 31ms/step - loss: 0.8187 - accuracy: 0.6959 - val_loss: 1.1543 - val_accuracy: 0.5844\n",
      "Epoch 65/100\n",
      "897/897 [==============================] - 28s 31ms/step - loss: 0.8095 - accuracy: 0.6998 - val_loss: 1.1696 - val_accuracy: 0.5812\n",
      "Epoch 66/100\n",
      "897/897 [==============================] - 28s 32ms/step - loss: 0.8062 - accuracy: 0.6998 - val_loss: 1.1801 - val_accuracy: 0.5908\n",
      "Epoch 67/100\n",
      "897/897 [==============================] - 28s 32ms/step - loss: 0.7935 - accuracy: 0.7078 - val_loss: 1.1595 - val_accuracy: 0.5950\n",
      "Epoch 68/100\n",
      "897/897 [==============================] - 28s 31ms/step - loss: 0.7891 - accuracy: 0.7072 - val_loss: 1.2039 - val_accuracy: 0.5824\n",
      "Epoch 69/100\n",
      "897/897 [==============================] - 29s 32ms/step - loss: 0.7730 - accuracy: 0.7126 - val_loss: 1.1665 - val_accuracy: 0.5939\n",
      "Epoch 70/100\n",
      "897/897 [==============================] - 28s 32ms/step - loss: 0.7679 - accuracy: 0.7204 - val_loss: 1.1841 - val_accuracy: 0.5905\n",
      "Epoch 71/100\n",
      "897/897 [==============================] - 28s 31ms/step - loss: 0.7532 - accuracy: 0.7218 - val_loss: 1.2274 - val_accuracy: 0.5758\n",
      "Epoch 72/100\n",
      "897/897 [==============================] - 28s 31ms/step - loss: 0.7421 - accuracy: 0.7255 - val_loss: 1.2067 - val_accuracy: 0.5776\n",
      "Epoch 73/100\n",
      "897/897 [==============================] - 28s 32ms/step - loss: 0.7336 - accuracy: 0.7306 - val_loss: 1.2315 - val_accuracy: 0.5806\n",
      "Epoch 74/100\n",
      "897/897 [==============================] - 28s 31ms/step - loss: 0.7194 - accuracy: 0.7353 - val_loss: 1.2065 - val_accuracy: 0.5893\n",
      "Epoch 75/100\n",
      "897/897 [==============================] - 28s 32ms/step - loss: 0.7141 - accuracy: 0.7400 - val_loss: 1.2613 - val_accuracy: 0.5794\n",
      "Epoch 76/100\n",
      "897/897 [==============================] - 28s 31ms/step - loss: 0.7046 - accuracy: 0.7419 - val_loss: 1.2451 - val_accuracy: 0.5977\n",
      "Epoch 77/100\n",
      "897/897 [==============================] - 28s 32ms/step - loss: 0.6999 - accuracy: 0.7421 - val_loss: 1.2396 - val_accuracy: 0.5886\n",
      "Epoch 78/100\n",
      "897/897 [==============================] - 28s 31ms/step - loss: 0.6839 - accuracy: 0.7490 - val_loss: 1.2201 - val_accuracy: 0.5928\n",
      "Epoch 79/100\n",
      "897/897 [==============================] - 28s 31ms/step - loss: 0.6721 - accuracy: 0.7538 - val_loss: 1.1994 - val_accuracy: 0.5953\n",
      "Epoch 80/100\n",
      "897/897 [==============================] - 28s 31ms/step - loss: 0.6706 - accuracy: 0.7583 - val_loss: 1.2609 - val_accuracy: 0.5843\n",
      "Epoch 81/100\n",
      "897/897 [==============================] - 28s 31ms/step - loss: 0.6532 - accuracy: 0.7605 - val_loss: 1.2945 - val_accuracy: 0.5792\n",
      "Epoch 82/100\n",
      "897/897 [==============================] - 28s 31ms/step - loss: 0.6399 - accuracy: 0.7649 - val_loss: 1.3087 - val_accuracy: 0.5699\n",
      "Epoch 83/100\n",
      "897/897 [==============================] - 28s 32ms/step - loss: 0.6352 - accuracy: 0.7695 - val_loss: 1.2913 - val_accuracy: 0.5831\n",
      "Epoch 84/100\n",
      "897/897 [==============================] - 28s 32ms/step - loss: 0.6378 - accuracy: 0.7664 - val_loss: 1.2626 - val_accuracy: 0.5813\n",
      "Epoch 85/100\n",
      "897/897 [==============================] - 28s 31ms/step - loss: 0.6111 - accuracy: 0.7764 - val_loss: 1.2745 - val_accuracy: 0.5859\n",
      "Epoch 86/100\n",
      "897/897 [==============================] - 28s 31ms/step - loss: 0.6034 - accuracy: 0.7777 - val_loss: 1.3056 - val_accuracy: 0.5843\n",
      "Epoch 87/100\n",
      "897/897 [==============================] - 28s 31ms/step - loss: 0.5963 - accuracy: 0.7818 - val_loss: 1.3386 - val_accuracy: 0.5859\n",
      "Epoch 88/100\n",
      "897/897 [==============================] - 29s 32ms/step - loss: 0.5837 - accuracy: 0.7866 - val_loss: 1.3569 - val_accuracy: 0.5802\n",
      "Epoch 89/100\n",
      "897/897 [==============================] - 30s 34ms/step - loss: 0.5860 - accuracy: 0.7862 - val_loss: 1.3356 - val_accuracy: 0.5921\n",
      "Epoch 90/100\n",
      "897/897 [==============================] - 30s 34ms/step - loss: 0.5690 - accuracy: 0.7943 - val_loss: 1.3190 - val_accuracy: 0.5924\n",
      "Epoch 91/100\n",
      "897/897 [==============================] - 31s 35ms/step - loss: 0.5487 - accuracy: 0.8005 - val_loss: 1.3375 - val_accuracy: 0.5919\n",
      "Epoch 92/100\n",
      "897/897 [==============================] - 39s 43ms/step - loss: 0.5524 - accuracy: 0.7974 - val_loss: 1.3620 - val_accuracy: 0.5843\n",
      "Epoch 93/100\n",
      "897/897 [==============================] - 35s 39ms/step - loss: 0.5424 - accuracy: 0.8057 - val_loss: 1.3374 - val_accuracy: 0.6014\n",
      "Epoch 94/100\n",
      "897/897 [==============================] - 35s 39ms/step - loss: 0.5315 - accuracy: 0.8091 - val_loss: 1.3376 - val_accuracy: 0.5872\n",
      "Epoch 95/100\n",
      "897/897 [==============================] - 37s 41ms/step - loss: 0.5304 - accuracy: 0.8084 - val_loss: 1.3450 - val_accuracy: 0.5879\n",
      "Epoch 96/100\n",
      "897/897 [==============================] - 36s 40ms/step - loss: 0.5162 - accuracy: 0.8112 - val_loss: 1.3894 - val_accuracy: 0.5907\n",
      "Epoch 97/100\n",
      "897/897 [==============================] - 33s 37ms/step - loss: 0.5116 - accuracy: 0.8149 - val_loss: 1.4057 - val_accuracy: 0.5809\n",
      "Epoch 98/100\n",
      "897/897 [==============================] - 36s 40ms/step - loss: 0.4929 - accuracy: 0.8223 - val_loss: 1.4593 - val_accuracy: 0.5827\n",
      "Epoch 99/100\n",
      "897/897 [==============================] - 39s 43ms/step - loss: 0.4835 - accuracy: 0.8244 - val_loss: 1.3726 - val_accuracy: 0.5946\n",
      "Epoch 100/100\n",
      "897/897 [==============================] - 36s 40ms/step - loss: 0.4866 - accuracy: 0.8232 - val_loss: 1.4250 - val_accuracy: 0.5878\n"
     ]
    }
   ],
   "source": [
    "model = AlexNet((48,48,3),7)\n",
    "\n",
    "epochs = 100\n",
    "steps_per_epoch = train_set.n//train_set.batch_size\n",
    "validation_steps = val_set.n//val_set.batch_size\n",
    "\n",
    "history = model.fit(train_set,\n",
    "                              steps_per_epoch=steps_per_epoch,\n",
    "                              epochs=epochs,\n",
    "                              batch_size = 32,\n",
    "                              validation_data=val_set,\n",
    "                              validation_steps=validation_steps)"
   ]
  },
  {
   "cell_type": "markdown",
   "metadata": {
    "id": "vnmN7X0Lt88s"
   },
   "source": [
    "#Save model"
   ]
  },
  {
   "cell_type": "code",
   "execution_count": 10,
   "metadata": {
    "id": "K1WdFN3cXW8Q"
   },
   "outputs": [],
   "source": [
    "# model_dir = \"AlexNetnew_model_50.h5\"\n",
    "model_weights_dir = \"AlexNetnew_model_weighs_100.h5\""
   ]
  },
  {
   "cell_type": "code",
   "execution_count": 11,
   "metadata": {
    "id": "PQlkFuj_t8II"
   },
   "outputs": [],
   "source": [
    "# Save the whole model\n",
    "# model.save(model_dir)\n",
    "model.save_weights(model_weights_dir)"
   ]
  },
  {
   "cell_type": "code",
   "execution_count": 13,
   "metadata": {},
   "outputs": [
    {
     "name": "stdout",
     "output_type": "stream",
     "text": [
      "Epoch 1/100\n",
      "898/898 [==============================] - 35s 38ms/step - loss: 0.4783 - accuracy: 0.8289 - val_loss: 1.3981 - val_accuracy: 0.5901\n",
      "Epoch 2/100\n",
      "898/898 [==============================] - 39s 44ms/step - loss: 0.4619 - accuracy: 0.8345 - val_loss: 1.4618 - val_accuracy: 0.5717\n",
      "Epoch 3/100\n",
      "898/898 [==============================] - 32s 36ms/step - loss: 0.4601 - accuracy: 0.8350 - val_loss: 1.4790 - val_accuracy: 0.5779\n",
      "Epoch 4/100\n",
      "898/898 [==============================] - 33s 36ms/step - loss: 0.4437 - accuracy: 0.8407 - val_loss: 1.4841 - val_accuracy: 0.5825\n",
      "Epoch 5/100\n",
      "898/898 [==============================] - 31s 34ms/step - loss: 0.4433 - accuracy: 0.8411 - val_loss: 1.4133 - val_accuracy: 0.5887\n",
      "Epoch 6/100\n",
      "898/898 [==============================] - 30s 34ms/step - loss: 0.4364 - accuracy: 0.8410 - val_loss: 1.4655 - val_accuracy: 0.5940\n",
      "Epoch 7/100\n",
      "898/898 [==============================] - 30s 33ms/step - loss: 0.4239 - accuracy: 0.8478 - val_loss: 1.4748 - val_accuracy: 0.5889\n",
      "Epoch 8/100\n",
      "898/898 [==============================] - 32s 36ms/step - loss: 0.4205 - accuracy: 0.8485 - val_loss: 1.4397 - val_accuracy: 0.5964\n",
      "Epoch 9/100\n",
      "898/898 [==============================] - 30s 34ms/step - loss: 0.4164 - accuracy: 0.8494 - val_loss: 1.4824 - val_accuracy: 0.5868\n",
      "Epoch 10/100\n",
      "898/898 [==============================] - 33s 36ms/step - loss: 0.4069 - accuracy: 0.8549 - val_loss: 1.5084 - val_accuracy: 0.5879\n",
      "Epoch 11/100\n",
      "898/898 [==============================] - 30s 34ms/step - loss: 0.3987 - accuracy: 0.8572 - val_loss: 1.5546 - val_accuracy: 0.5940\n",
      "Epoch 12/100\n",
      "898/898 [==============================] - 30s 34ms/step - loss: 0.3898 - accuracy: 0.8584 - val_loss: 1.4860 - val_accuracy: 0.5914\n",
      "Epoch 13/100\n",
      "898/898 [==============================] - 30s 33ms/step - loss: 0.3809 - accuracy: 0.8649 - val_loss: 1.5440 - val_accuracy: 0.5989\n",
      "Epoch 14/100\n",
      "898/898 [==============================] - 33s 37ms/step - loss: 0.3764 - accuracy: 0.8654 - val_loss: 1.5207 - val_accuracy: 0.5947\n",
      "Epoch 15/100\n",
      "898/898 [==============================] - 31s 34ms/step - loss: 0.3711 - accuracy: 0.8660 - val_loss: 1.5569 - val_accuracy: 0.5880\n",
      "Epoch 16/100\n",
      "898/898 [==============================] - 30s 34ms/step - loss: 0.3663 - accuracy: 0.8701 - val_loss: 1.5457 - val_accuracy: 0.5861\n",
      "Epoch 17/100\n",
      "898/898 [==============================] - 31s 34ms/step - loss: 0.3538 - accuracy: 0.8729 - val_loss: 1.5545 - val_accuracy: 0.5875\n",
      "Epoch 18/100\n",
      "898/898 [==============================] - 34s 38ms/step - loss: 0.3458 - accuracy: 0.8772 - val_loss: 1.6324 - val_accuracy: 0.5917\n",
      "Epoch 19/100\n",
      "898/898 [==============================] - 31s 34ms/step - loss: 0.3491 - accuracy: 0.8753 - val_loss: 1.4421 - val_accuracy: 0.5956\n",
      "Epoch 20/100\n",
      "898/898 [==============================] - 33s 36ms/step - loss: 0.3314 - accuracy: 0.8798 - val_loss: 1.5729 - val_accuracy: 0.6009\n",
      "Epoch 21/100\n",
      "898/898 [==============================] - 32s 36ms/step - loss: 0.3312 - accuracy: 0.8811 - val_loss: 1.5275 - val_accuracy: 0.5945\n",
      "Epoch 22/100\n",
      "898/898 [==============================] - 31s 34ms/step - loss: 0.3272 - accuracy: 0.8827 - val_loss: 1.6613 - val_accuracy: 0.5913\n",
      "Epoch 23/100\n",
      "898/898 [==============================] - 31s 35ms/step - loss: 0.3168 - accuracy: 0.8890 - val_loss: 1.5985 - val_accuracy: 0.5918\n",
      "Epoch 24/100\n",
      "898/898 [==============================] - 32s 35ms/step - loss: 0.3162 - accuracy: 0.8876 - val_loss: 1.5856 - val_accuracy: 0.5885\n",
      "Epoch 25/100\n",
      "898/898 [==============================] - 34s 38ms/step - loss: 0.3104 - accuracy: 0.8897 - val_loss: 1.6013 - val_accuracy: 0.5917\n",
      "Epoch 26/100\n",
      "898/898 [==============================] - 33s 37ms/step - loss: 0.3056 - accuracy: 0.8912 - val_loss: 1.5954 - val_accuracy: 0.5999\n",
      "Epoch 27/100\n",
      "898/898 [==============================] - 149s 166ms/step - loss: 0.3002 - accuracy: 0.8916 - val_loss: 1.5895 - val_accuracy: 0.6000\n",
      "Epoch 28/100\n",
      "898/898 [==============================] - 78s 87ms/step - loss: 0.2962 - accuracy: 0.8929 - val_loss: 1.6131 - val_accuracy: 0.6006\n",
      "Epoch 29/100\n",
      "898/898 [==============================] - 32s 36ms/step - loss: 0.2903 - accuracy: 0.8956 - val_loss: 1.6295 - val_accuracy: 0.6039\n",
      "Epoch 30/100\n",
      "898/898 [==============================] - 33s 37ms/step - loss: 0.2829 - accuracy: 0.9002 - val_loss: 1.7788 - val_accuracy: 0.5865\n",
      "Epoch 31/100\n",
      "898/898 [==============================] - 33s 36ms/step - loss: 0.2771 - accuracy: 0.8999 - val_loss: 1.6007 - val_accuracy: 0.6004\n",
      "Epoch 32/100\n",
      "898/898 [==============================] - 39s 43ms/step - loss: 0.2757 - accuracy: 0.9014 - val_loss: 1.7072 - val_accuracy: 0.5811\n",
      "Epoch 33/100\n",
      "898/898 [==============================] - 36s 40ms/step - loss: 0.2709 - accuracy: 0.9035 - val_loss: 1.7281 - val_accuracy: 0.5885\n",
      "Epoch 34/100\n",
      "898/898 [==============================] - 41s 45ms/step - loss: 0.2670 - accuracy: 0.9044 - val_loss: 1.7061 - val_accuracy: 0.6010\n",
      "Epoch 35/100\n",
      "898/898 [==============================] - 36s 40ms/step - loss: 0.2665 - accuracy: 0.9042 - val_loss: 1.7233 - val_accuracy: 0.6041\n",
      "Epoch 36/100\n",
      "898/898 [==============================] - 44s 49ms/step - loss: 0.2526 - accuracy: 0.9101 - val_loss: 1.7144 - val_accuracy: 0.5922\n",
      "Epoch 37/100\n",
      "898/898 [==============================] - 40s 45ms/step - loss: 0.2514 - accuracy: 0.9107 - val_loss: 1.7356 - val_accuracy: 0.5953\n",
      "Epoch 38/100\n",
      "898/898 [==============================] - 41s 45ms/step - loss: 0.2474 - accuracy: 0.9130 - val_loss: 1.7172 - val_accuracy: 0.6014\n",
      "Epoch 39/100\n",
      "898/898 [==============================] - 40s 45ms/step - loss: 0.2488 - accuracy: 0.9109 - val_loss: 1.6679 - val_accuracy: 0.5900\n",
      "Epoch 40/100\n",
      "898/898 [==============================] - 40s 44ms/step - loss: 0.2435 - accuracy: 0.9139 - val_loss: 1.6752 - val_accuracy: 0.6092\n",
      "Epoch 41/100\n",
      "898/898 [==============================] - 41s 45ms/step - loss: 0.2361 - accuracy: 0.9155 - val_loss: 1.6669 - val_accuracy: 0.6060\n",
      "Epoch 42/100\n",
      "898/898 [==============================] - 42s 47ms/step - loss: 0.2261 - accuracy: 0.9199 - val_loss: 1.7573 - val_accuracy: 0.5988\n",
      "Epoch 43/100\n",
      "898/898 [==============================] - 40s 45ms/step - loss: 0.2294 - accuracy: 0.9186 - val_loss: 1.8407 - val_accuracy: 0.5874\n",
      "Epoch 44/100\n",
      "898/898 [==============================] - 41s 46ms/step - loss: 0.2261 - accuracy: 0.9218 - val_loss: 1.7664 - val_accuracy: 0.5988\n",
      "Epoch 45/100\n",
      "898/898 [==============================] - 42s 47ms/step - loss: 0.2224 - accuracy: 0.9212 - val_loss: 1.8313 - val_accuracy: 0.5989\n",
      "Epoch 46/100\n",
      "898/898 [==============================] - 42s 46ms/step - loss: 0.2131 - accuracy: 0.9221 - val_loss: 1.8619 - val_accuracy: 0.6060\n",
      "Epoch 47/100\n",
      "898/898 [==============================] - 41s 46ms/step - loss: 0.2139 - accuracy: 0.9239 - val_loss: 1.9092 - val_accuracy: 0.5751\n",
      "Epoch 48/100\n",
      "898/898 [==============================] - 41s 45ms/step - loss: 0.2089 - accuracy: 0.9259 - val_loss: 1.7040 - val_accuracy: 0.6009\n",
      "Epoch 49/100\n",
      "898/898 [==============================] - 41s 45ms/step - loss: 0.2053 - accuracy: 0.9283 - val_loss: 1.8186 - val_accuracy: 0.6074\n",
      "Epoch 50/100\n",
      "898/898 [==============================] - 41s 46ms/step - loss: 0.2027 - accuracy: 0.9269 - val_loss: 1.8318 - val_accuracy: 0.6018\n",
      "Epoch 51/100\n",
      "898/898 [==============================] - 41s 45ms/step - loss: 0.2041 - accuracy: 0.9282 - val_loss: 1.8882 - val_accuracy: 0.5982\n",
      "Epoch 52/100\n",
      "898/898 [==============================] - 41s 46ms/step - loss: 0.1966 - accuracy: 0.9308 - val_loss: 1.7837 - val_accuracy: 0.5975\n",
      "Epoch 53/100\n",
      "898/898 [==============================] - 40s 45ms/step - loss: 0.1889 - accuracy: 0.9341 - val_loss: 1.8011 - val_accuracy: 0.5989\n",
      "Epoch 54/100\n",
      "898/898 [==============================] - 40s 44ms/step - loss: 0.1883 - accuracy: 0.9321 - val_loss: 1.8232 - val_accuracy: 0.5917\n",
      "Epoch 55/100\n",
      "898/898 [==============================] - 41s 46ms/step - loss: 0.1843 - accuracy: 0.9360 - val_loss: 1.7687 - val_accuracy: 0.5981\n",
      "Epoch 56/100\n",
      "898/898 [==============================] - 41s 45ms/step - loss: 0.1862 - accuracy: 0.9341 - val_loss: 1.8094 - val_accuracy: 0.6137\n",
      "Epoch 57/100\n"
     ]
    },
    {
     "name": "stdout",
     "output_type": "stream",
     "text": [
      "898/898 [==============================] - 41s 45ms/step - loss: 0.1870 - accuracy: 0.9344 - val_loss: 1.8232 - val_accuracy: 0.5985\n",
      "Epoch 58/100\n",
      "898/898 [==============================] - 40s 45ms/step - loss: 0.1800 - accuracy: 0.9358 - val_loss: 1.8656 - val_accuracy: 0.5993\n",
      "Epoch 59/100\n",
      "898/898 [==============================] - 40s 45ms/step - loss: 0.1752 - accuracy: 0.9404 - val_loss: 1.8689 - val_accuracy: 0.6126\n",
      "Epoch 60/100\n",
      "898/898 [==============================] - 40s 44ms/step - loss: 0.1786 - accuracy: 0.9356 - val_loss: 1.8390 - val_accuracy: 0.6123\n",
      "Epoch 61/100\n",
      "898/898 [==============================] - 40s 45ms/step - loss: 0.1651 - accuracy: 0.9413 - val_loss: 1.9151 - val_accuracy: 0.5988\n",
      "Epoch 62/100\n",
      "898/898 [==============================] - 40s 44ms/step - loss: 0.1723 - accuracy: 0.9388 - val_loss: 1.8800 - val_accuracy: 0.6062\n",
      "Epoch 63/100\n",
      "898/898 [==============================] - 39s 44ms/step - loss: 0.1751 - accuracy: 0.9395 - val_loss: 1.8071 - val_accuracy: 0.6009\n",
      "Epoch 64/100\n",
      "898/898 [==============================] - 39s 44ms/step - loss: 0.1596 - accuracy: 0.9446 - val_loss: 1.9166 - val_accuracy: 0.6084\n",
      "Epoch 65/100\n",
      "898/898 [==============================] - 39s 44ms/step - loss: 0.1650 - accuracy: 0.9433 - val_loss: 1.8964 - val_accuracy: 0.6116\n",
      "Epoch 66/100\n",
      "898/898 [==============================] - 39s 44ms/step - loss: 0.1590 - accuracy: 0.9440 - val_loss: 1.9010 - val_accuracy: 0.6045\n",
      "Epoch 67/100\n",
      "898/898 [==============================] - 39s 43ms/step - loss: 0.1595 - accuracy: 0.9439 - val_loss: 1.8946 - val_accuracy: 0.5989\n",
      "Epoch 68/100\n",
      "898/898 [==============================] - 40s 44ms/step - loss: 0.1536 - accuracy: 0.9461 - val_loss: 1.8975 - val_accuracy: 0.6169\n",
      "Epoch 69/100\n",
      "898/898 [==============================] - 39s 44ms/step - loss: 0.1464 - accuracy: 0.9483 - val_loss: 1.8993 - val_accuracy: 0.6049\n",
      "Epoch 70/100\n",
      "898/898 [==============================] - 39s 43ms/step - loss: 0.1488 - accuracy: 0.9468 - val_loss: 2.0314 - val_accuracy: 0.5950\n",
      "Epoch 71/100\n",
      "898/898 [==============================] - 39s 43ms/step - loss: 0.1560 - accuracy: 0.9454 - val_loss: 1.8284 - val_accuracy: 0.5999\n",
      "Epoch 72/100\n",
      "898/898 [==============================] - 39s 44ms/step - loss: 0.1496 - accuracy: 0.9483 - val_loss: 1.8709 - val_accuracy: 0.6137\n",
      "Epoch 73/100\n",
      "898/898 [==============================] - 39s 44ms/step - loss: 0.1490 - accuracy: 0.9467 - val_loss: 1.8636 - val_accuracy: 0.6016\n",
      "Epoch 74/100\n",
      "898/898 [==============================] - 39s 43ms/step - loss: 0.1474 - accuracy: 0.9473 - val_loss: 1.9908 - val_accuracy: 0.5926\n",
      "Epoch 75/100\n",
      "898/898 [==============================] - 39s 43ms/step - loss: 0.1438 - accuracy: 0.9478 - val_loss: 1.9937 - val_accuracy: 0.6053\n",
      "Epoch 76/100\n",
      "898/898 [==============================] - 39s 43ms/step - loss: 0.1409 - accuracy: 0.9500 - val_loss: 1.9556 - val_accuracy: 0.6096\n",
      "Epoch 77/100\n",
      "898/898 [==============================] - 39s 43ms/step - loss: 0.1329 - accuracy: 0.9517 - val_loss: 2.0033 - val_accuracy: 0.5997\n",
      "Epoch 78/100\n",
      "898/898 [==============================] - 39s 43ms/step - loss: 0.1364 - accuracy: 0.9523 - val_loss: 1.9957 - val_accuracy: 0.6098\n",
      "Epoch 79/100\n",
      "898/898 [==============================] - 39s 44ms/step - loss: 0.1343 - accuracy: 0.9515 - val_loss: 2.0157 - val_accuracy: 0.6120\n",
      "Epoch 80/100\n",
      "898/898 [==============================] - 40s 44ms/step - loss: 0.1366 - accuracy: 0.9526 - val_loss: 1.9381 - val_accuracy: 0.6078\n",
      "Epoch 81/100\n",
      "898/898 [==============================] - 39s 43ms/step - loss: 0.1310 - accuracy: 0.9537 - val_loss: 1.9926 - val_accuracy: 0.6018\n",
      "Epoch 82/100\n",
      "898/898 [==============================] - 40s 44ms/step - loss: 0.1301 - accuracy: 0.9539 - val_loss: 1.9676 - val_accuracy: 0.6117\n",
      "Epoch 83/100\n",
      "898/898 [==============================] - 40s 45ms/step - loss: 0.1269 - accuracy: 0.9556 - val_loss: 2.0513 - val_accuracy: 0.5981\n",
      "Epoch 84/100\n",
      "898/898 [==============================] - 40s 45ms/step - loss: 0.1274 - accuracy: 0.9551 - val_loss: 2.0175 - val_accuracy: 0.6009\n",
      "Epoch 85/100\n",
      "898/898 [==============================] - 40s 45ms/step - loss: 0.1223 - accuracy: 0.9579 - val_loss: 2.0939 - val_accuracy: 0.6009\n",
      "Epoch 86/100\n",
      "898/898 [==============================] - 40s 44ms/step - loss: 0.1335 - accuracy: 0.9546 - val_loss: 1.9878 - val_accuracy: 0.6014\n",
      "Epoch 87/100\n",
      "898/898 [==============================] - 40s 45ms/step - loss: 0.1231 - accuracy: 0.9568 - val_loss: 2.1085 - val_accuracy: 0.5935\n",
      "Epoch 88/100\n",
      "898/898 [==============================] - 38s 43ms/step - loss: 0.1250 - accuracy: 0.9545 - val_loss: 1.9596 - val_accuracy: 0.5982\n",
      "Epoch 89/100\n",
      "898/898 [==============================] - 34s 38ms/step - loss: 0.1202 - accuracy: 0.9575 - val_loss: 1.9709 - val_accuracy: 0.6088\n",
      "Epoch 90/100\n",
      "898/898 [==============================] - 34s 38ms/step - loss: 0.1181 - accuracy: 0.9591 - val_loss: 2.0130 - val_accuracy: 0.6135\n",
      "Epoch 91/100\n",
      "898/898 [==============================] - 33s 37ms/step - loss: 0.1143 - accuracy: 0.9605 - val_loss: 2.0691 - val_accuracy: 0.6099\n",
      "Epoch 92/100\n",
      "898/898 [==============================] - 34s 38ms/step - loss: 0.1166 - accuracy: 0.9589 - val_loss: 2.0407 - val_accuracy: 0.6109\n",
      "Epoch 93/100\n",
      "898/898 [==============================] - 36s 40ms/step - loss: 0.1179 - accuracy: 0.9581 - val_loss: 2.0760 - val_accuracy: 0.6170\n",
      "Epoch 94/100\n",
      "898/898 [==============================] - 33s 36ms/step - loss: 0.1104 - accuracy: 0.9621 - val_loss: 2.0220 - val_accuracy: 0.6084\n",
      "Epoch 95/100\n",
      "898/898 [==============================] - 35s 39ms/step - loss: 0.1174 - accuracy: 0.9588 - val_loss: 1.9640 - val_accuracy: 0.6130\n",
      "Epoch 96/100\n",
      "898/898 [==============================] - 35s 39ms/step - loss: 0.1169 - accuracy: 0.9584 - val_loss: 2.0318 - val_accuracy: 0.6170\n",
      "Epoch 97/100\n",
      "898/898 [==============================] - 33s 37ms/step - loss: 0.1096 - accuracy: 0.9617 - val_loss: 2.0560 - val_accuracy: 0.6045\n",
      "Epoch 98/100\n",
      "898/898 [==============================] - 31s 34ms/step - loss: 0.1077 - accuracy: 0.9627 - val_loss: 2.1161 - val_accuracy: 0.6108\n",
      "Epoch 99/100\n",
      "898/898 [==============================] - 30s 33ms/step - loss: 0.1143 - accuracy: 0.9598 - val_loss: 2.0475 - val_accuracy: 0.6154\n",
      "Epoch 100/100\n",
      "898/898 [==============================] - 30s 33ms/step - loss: 0.1070 - accuracy: 0.9611 - val_loss: 2.0603 - val_accuracy: 0.6109\n"
     ]
    }
   ],
   "source": [
    "checkpoint_path = \"model_weights/AlexNetnew_model_weighs_100.h5\"\n",
    "model_loaded = AlexNet((48,48,3),7)\n",
    "model_loaded.load_weights(checkpoint_path)\n",
    "\n",
    "history = model_loaded.fit_generator(\n",
    "    train_set,\n",
    "    steps_per_epoch=len(train_set),\n",
    "    epochs=100,\n",
    "    validation_data=val_set,\n",
    "    validation_steps=len(val_set)\n",
    ")"
   ]
  },
  {
   "cell_type": "code",
   "execution_count": 14,
   "metadata": {},
   "outputs": [],
   "source": [
    "model_weights_dir = \"AlexNetnew_model_weighs_200.h5\"\n",
    "model_loaded.save_weights(model_weights_dir)"
   ]
  },
  {
   "cell_type": "markdown",
   "metadata": {
    "id": "HRQ3-GAkutyh"
   },
   "source": [
    "# **Model evaluation:**"
   ]
  },
  {
   "cell_type": "code",
   "execution_count": null,
   "metadata": {
    "id": "xqi6dYuevD74"
   },
   "outputs": [],
   "source": [
    "# Using Tensorboard \n",
    "%tensorboard --logdir logs/fit"
   ]
  },
  {
   "cell_type": "code",
   "execution_count": null,
   "metadata": {
    "id": "OirCn85XRRjJ"
   },
   "outputs": [],
   "source": [
    "# Or using plotting \n",
    "# Create plots for accuracy and loss.\n",
    "fig , ax = plt.subplots(1,2)\n",
    "train_acc = history.history['accuracy']\n",
    "train_loss = history.history['loss']\n",
    "fig.set_size_inches(12,4)\n",
    "\n",
    "ax[0].plot(history.history['accuracy'])\n",
    "ax[0].plot(history.history['val_accuracy'])\n",
    "ax[0].set_title('Training Accuracy vs Validation Accuracy')\n",
    "ax[0].set_ylabel('Accuracy')\n",
    "ax[0].set_xlabel('Epoch')\n",
    "ax[0].legend(['Train', 'Validation'], loc='upper left')\n",
    "\n",
    "ax[1].plot(history.history['loss'])\n",
    "ax[1].plot(history.history['val_loss'])\n",
    "ax[1].set_title('Training Loss vs Validation Loss')\n",
    "ax[1].set_ylabel('Loss')\n",
    "ax[1].set_xlabel('Epoch')\n",
    "ax[1].legend(['Train', 'Validation'], loc='upper left')\n",
    "\n",
    "plt.show()"
   ]
  },
  {
   "cell_type": "code",
   "execution_count": 16,
   "metadata": {
    "id": "M_4f0pr_MvTf"
   },
   "outputs": [
    {
     "data": {
      "text/plain": [
       "<Figure size 640x480 with 0 Axes>"
      ]
     },
     "metadata": {},
     "output_type": "display_data"
    },
    {
     "data": {
      "image/png": "[encoded data removed]",
      "text/plain": [
       "<Figure size 1440x720 with 2 Axes>"
      ]
     },
     "metadata": {},
     "output_type": "display_data"
    }
   ],
   "source": [
    "# Create confusion matrix of our predictions\n",
    "\n",
    "# compute predictions\n",
    "predictions = model.predict_generator(generator=val_set)\n",
    "y_pred = [np.argmax(probas) for probas in predictions]\n",
    "y_test = val_set.classes\n",
    "class_names = val_set.class_indices.keys()\n",
    "\n",
    "# Create function to plot confussion matrix.\n",
    "def plot_confusion_matrix(cm, classes, title='Confusion matrix', cmap=plt.cm.Blues):\n",
    "    cm = cm.astype('float') / cm.sum(axis=1)[:, np.newaxis]\n",
    "    plt.figure(figsize=(12,6), dpi=120)\n",
    "    plt.imshow(cm, interpolation='nearest', cmap=cmap)\n",
    "    plt.title(title)\n",
    "    plt.colorbar()\n",
    "    tick_marks = np.arange(len(classes))\n",
    "    plt.xticks(tick_marks, classes, rotation=45)\n",
    "    plt.yticks(tick_marks, classes)\n",
    "\n",
    "    fmt = '.2f'\n",
    "    thresh = cm.max() / 2.\n",
    "    for i, j in itertools.product(range(cm.shape[0]), range(cm.shape[1])):\n",
    "        plt.text(j, i, format(cm[i, j], fmt),\n",
    "                 horizontalalignment=\"center\",\n",
    "                 color=\"white\" if cm[i, j] > thresh else \"black\")\n",
    "\n",
    "    plt.ylabel('True label')# **Live Class Monitoring System(Face Emotion Recognition)**\n",
    "    plt.xlabel('Predicted label')\n",
    "    plt.tight_layout()\n",
    "    plt.show()\n",
    "    \n",
    "# Compute confusion matrix\n",
    "cnf_matrix = confusion_matrix(y_test, y_pred)\n",
    "np.set_printoptions(precision=2)\n",
    "\n",
    "# Plot normalized confusion matrix\n",
    "plt.figure()\n",
    "plot_confusion_matrix(cnf_matrix, classes=class_names, title='Normalized confusion matrix')\n",
    "plt.show()"
   ]
  },
  {
   "cell_type": "markdown",
   "metadata": {
    "id": "YpwLo3MOVlo_"
   },
   "source": [
    "## Pretrain Model\n"
   ]
  },
  {
   "cell_type": "markdown",
   "metadata": {
    "id": "V69pX_lbVp0U"
   },
   "source": [
    "Load model:"
   ]
  },
  {
   "cell_type": "markdown",
   "metadata": {
    "id": "tgloycjsVovY"
   },
   "source": [
    "loaded_model = load_model(\"AlexNet_model-100iters.h5\")\n",
    "loaded_model.load_weights(\"AlexNet_model_weights-100iters.h5\")"
   ]
  }
 ],
 "metadata": {
  "accelerator": "GPU",
  "colab": {
   "collapsed_sections": [
    "URwdYfsiMltF",
    "g5RpZlMkPGG2"
   ],
   "provenance": [
    {
     "file_id": "1vaz1tUJkzsBwROz1_ZNEe8G6KbWWX-3X",
     "timestamp": 1675563684398
    }
   ]
  },
  "gpuClass": "standard",
  "kernelspec": {
   "display_name": "Python 3.8 (tensorflow)",
   "language": "python",
   "name": "tensorflow"
  },
  "language_info": {
   "codemirror_mode": {
    "name": "ipython",
    "version": 3
   },
   "file_extension": ".py",
   "mimetype": "text/x-python",
   "name": "python",
   "nbconvert_exporter": "python",
   "pygments_lexer": "ipython3",
   "version": "3.8.0"
  }
 },
 "nbformat": 4,
 "nbformat_minor": 1
}
