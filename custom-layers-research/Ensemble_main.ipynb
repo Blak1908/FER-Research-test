{
 "cells": [
  {
   "cell_type": "markdown",
   "metadata": {
    "id": "view-in-github"
   },
   "source": [
    "<a href=\"https://colab.research.google.com/github/anishjohnson/Face-Emotion-Recognition/blob/main/FER/Colab%20Notebook/Face_Emotion_Recognition_Anish_Johnson.ipynb\" target=\"_parent\"><img src=\"https://colab.research.google.com/assets/colab-badge.svg\" alt=\"Open In Colab\"/></a>"
   ]
  },
  {
   "cell_type": "markdown",
   "metadata": {
    "id": "URwdYfsiMltF"
   },
   "source": [
    "# **Face Emotion Recognition**\n",
    "\n",
    "\n",
    "\n",
    "\n",
    "\n",
    "\n",
    "\n",
    "\n"
   ]
  },
  {
   "cell_type": "markdown",
   "metadata": {
    "id": "g5RpZlMkPGG2"
   },
   "source": [
    "# **Objective**\n",
    "Our objective is to solve the above mentioned challenge by applying deep learning algorithms to live video data inorder to recognize the facial emotions and categorize them accordingly."
   ]
  },
  {
   "cell_type": "markdown",
   "metadata": {
    "id": "9AGaR26YPV--"
   },
   "source": [
    "# **Dataset used**\n",
    "We have utilized the [FER 2013](https://www.kaggle.com/datasets/msambare/fer2013) dataset provided on Kaggle.<br>\n",
    "The data consists of 48x48 pixel grayscale images of faces. The faces have been automatically registered so that the face is more or less centred and occupies about the same amount of space in each image.<br>\n",
    "\n",
    "The task is to categorize each face based on the emotion shown in the facial expression into one of seven categories (0=Angry, 1=Disgust, 2=Fear, 3=Happy, 4=Sad, 5=Surprise, 6=Neutral). The training set consists of 28,709 examples and the public test set consists of 3,589 examples."
   ]
  },
  {
   "cell_type": "code",
   "execution_count": 1,
   "metadata": {
    "id": "gVjAMoriVm5s"
   },
   "outputs": [
    {
     "name": "stdout",
     "output_type": "stream",
     "text": [
      "Thu Feb 23 08:28:22 2023       \n",
      "+-----------------------------------------------------------------------------+\n",
      "| NVIDIA-SMI 528.33       Driver Version: 528.33       CUDA Version: 12.0     |\n",
      "|-------------------------------+----------------------+----------------------+\n",
      "| GPU  Name            TCC/WDDM | Bus-Id        Disp.A | Volatile Uncorr. ECC |\n",
      "| Fan  Temp  Perf  Pwr:Usage/Cap|         Memory-Usage | GPU-Util  Compute M. |\n",
      "|                               |                      |               MIG M. |\n",
      "|===============================+======================+======================|\n",
      "|   0  NVIDIA GeForce ... WDDM  | 00000000:01:00.0 Off |                  N/A |\n",
      "| N/A   39C    P8     9W /  80W |      0MiB /  6144MiB |      0%      Default |\n",
      "|                               |                      |                  N/A |\n",
      "+-------------------------------+----------------------+----------------------+\n",
      "                                                                               \n",
      "+-----------------------------------------------------------------------------+\n",
      "| Processes:                                                                  |\n",
      "|  GPU   GI   CI        PID   Type   Process name                  GPU Memory |\n",
      "|        ID   ID                                                   Usage      |\n",
      "|=============================================================================|\n",
      "|  No running processes found                                                 |\n",
      "+-----------------------------------------------------------------------------+\n",
      "nvcc: NVIDIA (R) Cuda compiler driver\n",
      "Copyright (c) 2005-2023 NVIDIA Corporation\n",
      "Built on Fri_Jan__6_19:04:39_Pacific_Standard_Time_2023\n",
      "Cuda compilation tools, release 12.0, V12.0.140\n",
      "Build cuda_12.0.r12.0/compiler.32267302_0\n"
     ]
    }
   ],
   "source": [
    "!nvidia-smi\n",
    "!nvcc -V"
   ]
  },
  {
   "cell_type": "markdown",
   "metadata": {
    "id": "mKaCCukeQGGv"
   },
   "source": [
    "### **Let's Begin:**"
   ]
  },
  {
   "cell_type": "markdown",
   "metadata": {
    "id": "n2QTffm_tEDK"
   },
   "source": [
    "# **Data Exploration:**"
   ]
  },
  {
   "cell_type": "markdown",
   "metadata": {
    "id": "5py4G2_K3R3Y"
   },
   "source": [
    "**Lets start by importing the required libraries.**"
   ]
  },
  {
   "cell_type": "code",
   "execution_count": 3,
   "metadata": {},
   "outputs": [
    {
     "name": "stdout",
     "output_type": "stream",
     "text": [
      "Collecting seaborn\n",
      "  Using cached seaborn-0.12.2-py3-none-any.whl (293 kB)\n",
      "Requirement already satisfied: pandas>=0.25 in /Users/trantuandat/Documents/venv-tensorflow/lib/python3.8/site-packages (from seaborn) (1.5.3)\n",
      "Requirement already satisfied: matplotlib!=3.6.1,>=3.1 in /Users/trantuandat/Documents/venv-tensorflow/lib/python3.8/site-packages (from seaborn) (3.6.3)\n",
      "Requirement already satisfied: numpy!=1.24.0,>=1.17 in /Users/trantuandat/Documents/venv-tensorflow/lib/python3.8/site-packages (from seaborn) (1.24.2)\n",
      "Requirement already satisfied: contourpy>=1.0.1 in /Users/trantuandat/Documents/venv-tensorflow/lib/python3.8/site-packages (from matplotlib!=3.6.1,>=3.1->seaborn) (1.0.7)\n",
      "Requirement already satisfied: packaging>=20.0 in /Users/trantuandat/Documents/venv-tensorflow/lib/python3.8/site-packages (from matplotlib!=3.6.1,>=3.1->seaborn) (23.0)\n",
      "Requirement already satisfied: pillow>=6.2.0 in /Users/trantuandat/Documents/venv-tensorflow/lib/python3.8/site-packages (from matplotlib!=3.6.1,>=3.1->seaborn) (9.4.0)\n",
      "Requirement already satisfied: cycler>=0.10 in /Users/trantuandat/Documents/venv-tensorflow/lib/python3.8/site-packages (from matplotlib!=3.6.1,>=3.1->seaborn) (0.11.0)\n",
      "Requirement already satisfied: kiwisolver>=1.0.1 in /Users/trantuandat/Documents/venv-tensorflow/lib/python3.8/site-packages (from matplotlib!=3.6.1,>=3.1->seaborn) (1.4.4)\n",
      "Requirement already satisfied: pyparsing>=2.2.1 in /Users/trantuandat/Documents/venv-tensorflow/lib/python3.8/site-packages (from matplotlib!=3.6.1,>=3.1->seaborn) (3.0.9)\n",
      "Requirement already satisfied: python-dateutil>=2.7 in /Users/trantuandat/Documents/venv-tensorflow/lib/python3.8/site-packages (from matplotlib!=3.6.1,>=3.1->seaborn) (2.8.2)\n",
      "Requirement already satisfied: fonttools>=4.22.0 in /Users/trantuandat/Documents/venv-tensorflow/lib/python3.8/site-packages (from matplotlib!=3.6.1,>=3.1->seaborn) (4.38.0)\n",
      "Requirement already satisfied: pytz>=2020.1 in /Users/trantuandat/Documents/venv-tensorflow/lib/python3.8/site-packages (from pandas>=0.25->seaborn) (2022.7.1)\n",
      "Requirement already satisfied: six>=1.5 in /Users/trantuandat/Documents/venv-tensorflow/lib/python3.8/site-packages (from python-dateutil>=2.7->matplotlib!=3.6.1,>=3.1->seaborn) (1.16.0)\n",
      "Installing collected packages: seaborn\n",
      "Successfully installed seaborn-0.12.2\n"
     ]
    }
   ],
   "source": [
    "!pip install seaborn"
   ]
  },
  {
   "cell_type": "code",
   "execution_count": 4,
   "metadata": {
    "id": "OheLkRm1DJ3a"
   },
   "outputs": [
    {
     "name": "stdout",
     "output_type": "stream",
     "text": [
      "Above libraries have been imported.\n"
     ]
    }
   ],
   "source": [
    "# Basic python libraries.\n",
    "import datetime\n",
    "import numpy as np\n",
    "import os\n",
    "import tensorflow as tf\n",
    "import matplotlib.pyplot as plt\n",
    "from tqdm import tqdm\n",
    "from PIL import Image\n",
    "import itertools\n",
    "import seaborn as sns\n",
    "\n",
    "# Get rid of warnings!\n",
    "import warnings\n",
    "warnings.filterwarnings('ignore')\n",
    "\n",
    "# Deep learning libraries.\n",
    "\n",
    "from sklearn.metrics import confusion_matrix\n",
    "from tensorflow.keras import Model\n",
    "from tensorflow.keras.models import load_model\n",
    "from tensorflow.keras.preprocessing.image import load_img, img_to_array, ImageDataGenerator\n",
    "from tensorflow.keras.utils import plot_model\n",
    "from tensorflow.keras.models import Sequential\n",
    "from tensorflow.keras.utils import to_categorical\n",
    "from tensorflow.keras.losses import categorical_crossentropy\n",
    "from tensorflow.keras.layers import Dense, Flatten, Conv2D, MaxPooling2D, Dropout\n",
    "from keras.optimizers import SGD\n",
    "\n",
    "print('Above libraries have been imported.')"
   ]
  },
  {
   "cell_type": "markdown",
   "metadata": {
    "id": "nKEJMNa45tfB"
   },
   "source": [
    "**Seperate the Training and Validation Data.**"
   ]
  },
  {
   "cell_type": "code",
   "execution_count": 5,
   "metadata": {
    "id": "PnFhfDs6sobL"
   },
   "outputs": [
    {
     "data": {
      "text/plain": [
       "'2.11.0'"
      ]
     },
     "execution_count": 5,
     "metadata": {},
     "output_type": "execute_result"
    }
   ],
   "source": [
    "tf.__version__"
   ]
  },
  {
   "cell_type": "code",
   "execution_count": 10,
   "metadata": {
    "id": "lKpeEhrw5sSN"
   },
   "outputs": [],
   "source": [
    "# Define the train and validataion data paths.\n",
    "train_dir = '../Dataset/train'\n",
    "val_dir = '../Dataset/test'"
   ]
  },
  {
   "cell_type": "code",
   "execution_count": 11,
   "metadata": {
    "id": "3bzIXm5UjD-p"
   },
   "outputs": [
    {
     "data": {
      "image/png": "[encoded data removed]",
      "text/plain": [
       "<Figure size 1800x2200 with 7 Axes>"
      ]
     },
     "metadata": {},
     "output_type": "display_data"
    }
   ],
   "source": [
    "# Define the default image size.\n",
    "img_size = 48\n",
    "\n",
    "# Define the seven emotions provided in dataset.\n",
    "emotion_list = ['angry', 'disgust', 'fear', 'happy', 'sad', 'surprise', 'neutral']\n",
    "\n",
    "# Plot the images with each distinct emotions.\n",
    "plt.figure(figsize=(18,22))\n",
    "i = 1\n",
    "for expression in emotion_list:\n",
    "    img = load_img((train_dir + '/' + expression +'/'+ os.listdir(train_dir + '/' + expression)[59]))\n",
    "    plt.subplot(1,7,i)\n",
    "    plt.imshow(img)\n",
    "    plt.title(expression)\n",
    "    plt.axis('off')\n",
    "    i += 1\n",
    "plt.show()"
   ]
  },
  {
   "cell_type": "markdown",
   "metadata": {
    "id": "_Duo9uIT3PV6"
   },
   "source": [
    "**Have a look at our data.**"
   ]
  },
  {
   "cell_type": "markdown",
   "metadata": {
    "id": "UNCuMOZrGkcx"
   },
   "source": [
    "**Perform some Data Augmentation on train and validations sets.**"
   ]
  },
  {
   "cell_type": "markdown",
   "metadata": {
    "id": "vvy5uusVtMAh"
   },
   "source": [
    "# **Data Preprocessing:**"
   ]
  },
  {
   "cell_type": "code",
   "execution_count": 12,
   "metadata": {
    "id": "NnZfATJ1GW5T"
   },
   "outputs": [
    {
     "name": "stdout",
     "output_type": "stream",
     "text": [
      "Above data generator functions have been created.\n"
     ]
    }
   ],
   "source": [
    "# Rescale the data.\n",
    "'''\n",
    "Before we proceed we need to rescale our data by multiplying it to 1/255.\n",
    "This is done so we get target values between 0 and 1.\n",
    "'''\n",
    "# Rescale train data.\n",
    "datagen_train = ImageDataGenerator(\n",
    "    rescale=1./255,\n",
    "    shear_range=0.2,\n",
    "    zoom_range=0.2,\n",
    "    horizontal_flip=True\n",
    ")\n",
    "\n",
    "# Rescale validation data.\n",
    "datagen_val = ImageDataGenerator(rescale = 1./255,\n",
    "                                 )\n",
    "\n",
    "print('Above data generator functions have been created.')"
   ]
  },
  {
   "cell_type": "code",
   "execution_count": 13,
   "metadata": {
    "id": "pfQSzCIDGWvq"
   },
   "outputs": [
    {
     "name": "stdout",
     "output_type": "stream",
     "text": [
      "Found 28709 images belonging to 7 classes.\n",
      "Found 7178 images belonging to 7 classes.\n",
      "Train and Validation sets have been created.\n"
     ]
    }
   ],
   "source": [
    "# Perform data augmentation.\n",
    "'''\n",
    "Data augmentation is a technique to artificially create new training data from existing training data. \n",
    "It helps us to increase the size of the dataset and introduce variability in the dataset.\n",
    "'''\n",
    "# Define the default image size.\n",
    "img_size = 48\n",
    "\n",
    "# Define batch size.\n",
    "batch_size = 64\n",
    "\n",
    "                                         \n",
    "# Train data\n",
    "train_set = datagen_train.flow_from_directory(\n",
    "    directory=train_dir,\n",
    "    target_size=(img_size, img_size),\n",
    "    batch_size=batch_size,\n",
    "    class_mode='categorical',\n",
    "    shuffle=True\n",
    ")\n",
    "\n",
    "# Validation data\n",
    "val_set = datagen_train.flow_from_directory(\n",
    "    directory=val_dir,\n",
    "    target_size=(img_size, img_size),\n",
    "    batch_size=batch_size,\n",
    "    class_mode='categorical',\n",
    "    shuffle=False\n",
    ")\n",
    "\n",
    "\n",
    "print('Train and Validation sets have been created.')"
   ]
  },
  {
   "cell_type": "markdown",
   "metadata": {
    "id": "YNBzIZBDQbAm"
   },
   "source": [
    "**Now lets create our custom CNN model.**"
   ]
  },
  {
   "cell_type": "markdown",
   "metadata": {
    "id": "yOwMRBUFuHnp"
   },
   "source": [
    "# **Build CNN Model:**"
   ]
  },
  {
   "cell_type": "markdown",
   "metadata": {
    "id": "YK5yRfKO2r53"
   },
   "source": [
    "**Before we start building the neural network lets understand some of the terms that we will be using.**\n",
    "\n",
    "* **Model = sequential** : A Sequential model is appropriate for a plain stack of layers where each layer has exactly one input tensor and one output tensor.\n",
    "\n",
    "* **Padding** = The padding parameter of the Keras Conv2D class can take one of two values: 'valid' or 'same'. Setting the value to “valid” parameter means that the input volume is not zero-padded and the spatial dimensions are allowed to reduce via the natural application of convolution.\n",
    "\n",
    "* **Activation** = relu :The rectified linear activation function or ReLU for short is a piecewise linear function that will output the input directly if it is positive, otherwise, it will output zero. It has become the default activation function for many types of neural networks because a model that uses it is easier to train and often achieves better performance.\n",
    "\n",
    "* **Maxpooling** = Maximum pooling, or max pooling, is a pooling operation that calculates the maximum, or largest, value in each patch of each feature map. The results are down sampled or pooled feature maps that highlight the most present feature in the patch, not the average presence of the feature in the case of average pooling.\n",
    "\n",
    "* **Batch normalization** = Batch normalization is a technique for training very deep neural networks that standardizes the inputs to a layer for each mini-batch. This has the effect of stabilizing the learning process and dramatically reducing the number of training epochs required to train deep networks.\n",
    "\n",
    "* **Dropout** = Dropout is a technique used to prevent a model from overfitting. Dropout works by randomly setting the outgoing edges of hidden units (neurons that make up hidden layers) to 0 at each update of the training phase.\n",
    "\n",
    "* **Adam** = Adaptive Moment Estimation is an algorithm for optimization technique for gradient descent. The method is really efficient when working with large problem involving a lot of data or parameters. It requires less memory and is efficient. Intuitively, it is a combination of the ‘gradient descent with momentum’ algorithm and the ‘RMSP’ algorithm. It uses the squared gradients to scale the learning rate like RMSprop and it takes advantage of momentum by using moving average of the gradient instead of gradient itself like SGD with momentum."
   ]
  },
  {
   "cell_type": "code",
   "execution_count": 14,
   "metadata": {
    "id": "3rC4qfWffxRX"
   },
   "outputs": [],
   "source": [
    "# AlexNet model\n",
    "\n",
    "class AlexNet(Sequential):\n",
    "  def __init__(self, input_shape, num_classes):\n",
    "    super().__init__()\n",
    "    self.add(Conv2D(32, (3, 3), activation='relu', input_shape=input_shape))\n",
    "    self.add(MaxPooling2D((2, 2)))\n",
    "    self.add(Conv2D(64, (3, 3), activation='relu'))\n",
    "    self.add(MaxPooling2D((2, 2)))\n",
    "    self.add(Conv2D(128, (3, 3), activation='relu'))\n",
    "    self.add(MaxPooling2D((2, 2)))\n",
    "    self.add(Flatten())\n",
    "    self.add(Dense(128, activation='relu'))\n",
    "    self.add(Dropout(0.5))\n",
    "    self.add(Dense(num_classes, activation='softmax'))\n",
    "\n",
    "    opt = SGD(lr=0.01)\n",
    "    self.compile(loss='categorical_crossentropy', optimizer=opt, metrics=['accuracy'])"
   ]
  },
  {
   "cell_type": "code",
   "execution_count": 15,
   "metadata": {
    "id": "DkUwk3w2fxRX"
   },
   "outputs": [],
   "source": [
    "class VGGNet(Sequential):\n",
    "  def __init__(self, input_shape, num_classes):\n",
    "    super().__init__()\n",
    "\n",
    "    self.add(Conv2D(64, (3, 3), activation='relu', padding='same', input_shape=(48, 48, 3)))\n",
    "    self.add(Conv2D(64, (3, 3), activation='relu', padding='same'))\n",
    "    self.add(MaxPooling2D(pool_size=(2, 2)))\n",
    "\n",
    "    self.add(Conv2D(128, (3, 3), activation='relu', padding='same'))\n",
    "    self.add(MaxPooling2D(pool_size=(2, 2)))\n",
    "\n",
    "    self.add(Conv2D(256, (3, 3), activation='relu', padding='same'))\n",
    "    self.add(MaxPooling2D(pool_size=(2, 2)))\n",
    "\n",
    "    self.add(Flatten())\n",
    "    self.add(Dense(4096, activation='relu'))\n",
    "    self.add(Dropout(0.5))\n",
    "    self.add(Dense(4096, activation='relu'))\n",
    "    self.add(Dropout(0.5))\n",
    "    self.add(Dense(1000, activation='relu'))\n",
    "    self.add(Dropout(0.5))\n",
    "    self.add(Dense(num_classes, activation='softmax'))\n",
    "    opt = SGD(lr=0.01)\n",
    "    self.compile(loss='categorical_crossentropy', optimizer=opt, metrics=['accuracy'])\n",
    "    self.summary()\n",
    "    \n"
   ]
  },
  {
   "cell_type": "code",
   "execution_count": 19,
   "metadata": {
    "id": "TX1OE3iXfxRX"
   },
   "outputs": [],
   "source": [
    "import tensorflow as tf\n",
    "from tensorflow.keras.layers import Input, ZeroPadding2D, Conv2D, BatchNormalization, Activation, MaxPooling2D, AveragePooling2D, Flatten, Dense, Add\n",
    "from tensorflow.keras.models import Model\n",
    "from tensorflow.keras.optimizers import SGD\n",
    "from tensorflow.keras.callbacks import EarlyStopping, ModelCheckpoint\n",
    "\n",
    "# Define ResNet building blocks\n",
    "def identity_block(x, filters):\n",
    "    # Save input tensor\n",
    "    x_shortcut = x\n",
    "    \n",
    "    # First convolutional layer\n",
    "    x = Conv2D(filters, (3, 3), padding='same')(x)\n",
    "    x = BatchNormalization(axis=3)(x)\n",
    "    x = Activation('relu')(x)\n",
    "    \n",
    "    # Second convolutional layer\n",
    "    x = Conv2D(filters, (3, 3), padding='same')(x)\n",
    "    x = BatchNormalization(axis=3)(x)\n",
    "    \n",
    "    # Add shortcut to output and apply ReLU activation\n",
    "    x = Add()([x, x_shortcut])\n",
    "    x = Activation('relu')(x)\n",
    "    \n",
    "    return x\n",
    "\n",
    "def convolutional_block(x, filters, strides):\n",
    "    # Save input tensor\n",
    "    x_shortcut = x\n",
    "    \n",
    "    # First convolutional layer\n",
    "    x = Conv2D(filters, (3, 3), padding='same', strides=strides)(x)\n",
    "    x = BatchNormalization(axis=3)(x)\n",
    "    x = Activation('relu')(x)\n",
    "    \n",
    "    # Second convolutional layer\n",
    "    x = Conv2D(filters, (3, 3), padding='same')(x)\n",
    "    x = BatchNormalization(axis=3)(x)\n",
    "    \n",
    "    # Apply 1x1 convolution to shortcut connection\n",
    "    x_shortcut = Conv2D(filters, (1, 1), strides=strides, padding='same')(x_shortcut)\n",
    "    \n",
    "    # Add shortcut to output and apply ReLU activation\n",
    "    x = Add()([x, x_shortcut])\n",
    "    x = Activation('relu')(x)\n",
    "    \n",
    "    return x\n",
    "\n",
    "def ResNet(input_shape=(48, 48, 3), num_classes=7):\n",
    "    # Define input tensor\n",
    "    x_input = Input(input_shape)\n",
    "    \n",
    "    # Zero-padding layer\n",
    "    x = ZeroPadding2D((3, 3))(x_input)\n",
    "    \n",
    "    # Initial convolutional layer and max pooling\n",
    "    x = Conv2D(64, (3, 3), strides=(1, 1), padding='same')(x)\n",
    "    x = BatchNormalization(axis=3)(x)\n",
    "    x = Activation('relu')(x)\n",
    "    \n",
    "    # ResNet blocks\n",
    "    x = convolutional_block(x, 64, strides=(2, 2))\n",
    "    x = identity_block(x, 64)\n",
    "\n",
    "    x = convolutional_block(x, 128, strides=(2, 2))\n",
    "    x = identity_block(x, 128)\n",
    "\n",
    "    x = convolutional_block(x, 256, strides=(2, 2))\n",
    "    x = identity_block(x, 256)\n",
    "    x = identity_block(x, 256)\n",
    "\n",
    "    \n",
    "    # Global average pooling and fully connected layer\n",
    "    x = AveragePooling2D(pool_size=(2,2))(x)\n",
    "    x = Flatten()(x)\n",
    "    x = Dense(num_classes, activation='softmax')(x)\n",
    "    x = Dropout(0.1)(x)\n",
    "    # Create the model\n",
    "    model = Model(inputs=x_input, outputs=x, name='ResNet')\n",
    "    opt = SGD(lr=0.005, clipnorm=1.0)\n",
    "    model.compile(loss='categorical_crossentropy', optimizer=opt, metrics=['accuracy'])\n",
    "    model.summary()\n",
    "    return model\n",
    "\n"
   ]
  },
  {
   "cell_type": "code",
   "execution_count": 22,
   "metadata": {
    "id": "dnxVTMKcGWjd",
    "scrolled": true
   },
   "outputs": [
    {
     "name": "stderr",
     "output_type": "stream",
     "text": [
      "WARNING:absl:`lr` is deprecated, please use `learning_rate` instead, or use the legacy optimizer, e.g.,tf.keras.optimizers.legacy.SGD.\n",
      "WARNING:absl:`lr` is deprecated, please use `learning_rate` instead, or use the legacy optimizer, e.g.,tf.keras.optimizers.legacy.SGD.\n"
     ]
    },
    {
     "name": "stdout",
     "output_type": "stream",
     "text": [
      "Model: \"vgg_net_4\"\n",
      "_________________________________________________________________\n",
      " Layer (type)                Output Shape              Param #   \n",
      "=================================================================\n",
      " conv2d_107 (Conv2D)         (None, 48, 48, 64)        1792      \n",
      "                                                                 \n",
      " conv2d_108 (Conv2D)         (None, 48, 48, 64)        36928     \n",
      "                                                                 \n",
      " max_pooling2d_27 (MaxPoolin  (None, 24, 24, 64)       0         \n",
      " g2D)                                                            \n",
      "                                                                 \n",
      " conv2d_109 (Conv2D)         (None, 24, 24, 128)       73856     \n",
      "                                                                 \n",
      " max_pooling2d_28 (MaxPoolin  (None, 12, 12, 128)      0         \n",
      " g2D)                                                            \n",
      "                                                                 \n",
      " conv2d_110 (Conv2D)         (None, 12, 12, 256)       295168    \n",
      "                                                                 \n",
      " max_pooling2d_29 (MaxPoolin  (None, 6, 6, 256)        0         \n",
      " g2D)                                                            \n",
      "                                                                 \n",
      " flatten_13 (Flatten)        (None, 9216)              0         \n",
      "                                                                 \n",
      " dense_30 (Dense)            (None, 4096)              37752832  \n",
      "                                                                 \n",
      " dropout_21 (Dropout)        (None, 4096)              0         \n",
      "                                                                 \n",
      " dense_31 (Dense)            (None, 4096)              16781312  \n",
      "                                                                 \n",
      " dropout_22 (Dropout)        (None, 4096)              0         \n",
      "                                                                 \n",
      " dense_32 (Dense)            (None, 1000)              4097000   \n",
      "                                                                 \n",
      " dropout_23 (Dropout)        (None, 1000)              0         \n",
      "                                                                 \n",
      " dense_33 (Dense)            (None, 7)                 7007      \n",
      "                                                                 \n",
      "=================================================================\n",
      "Total params: 59,045,895\n",
      "Trainable params: 59,045,895\n",
      "Non-trainable params: 0\n",
      "_________________________________________________________________\n"
     ]
    },
    {
     "name": "stderr",
     "output_type": "stream",
     "text": [
      "WARNING:absl:`lr` is deprecated, please use `learning_rate` instead, or use the legacy optimizer, e.g.,tf.keras.optimizers.legacy.SGD.\n"
     ]
    },
    {
     "name": "stdout",
     "output_type": "stream",
     "text": [
      "Model: \"ResNet\"\n",
      "__________________________________________________________________________________________________\n",
      " Layer (type)                   Output Shape         Param #     Connected to                     \n",
      "==================================================================================================\n",
      " input_5 (InputLayer)           [(None, 48, 48, 3)]  0           []                               \n",
      "                                                                                                  \n",
      " zero_padding2d_4 (ZeroPadding2  (None, 54, 54, 3)   0           ['input_5[0][0]']                \n",
      " D)                                                                                               \n",
      "                                                                                                  \n",
      " conv2d_111 (Conv2D)            (None, 54, 54, 64)   1792        ['zero_padding2d_4[0][0]']       \n",
      "                                                                                                  \n",
      " batch_normalization_64 (BatchN  (None, 54, 54, 64)  256         ['conv2d_111[0][0]']             \n",
      " ormalization)                                                                                    \n",
      "                                                                                                  \n",
      " activation_64 (Activation)     (None, 54, 54, 64)   0           ['batch_normalization_64[0][0]'] \n",
      "                                                                                                  \n",
      " conv2d_112 (Conv2D)            (None, 27, 27, 64)   36928       ['activation_64[0][0]']          \n",
      "                                                                                                  \n",
      " batch_normalization_65 (BatchN  (None, 27, 27, 64)  256         ['conv2d_112[0][0]']             \n",
      " ormalization)                                                                                    \n",
      "                                                                                                  \n",
      " activation_65 (Activation)     (None, 27, 27, 64)   0           ['batch_normalization_65[0][0]'] \n",
      "                                                                                                  \n",
      " conv2d_113 (Conv2D)            (None, 27, 27, 64)   36928       ['activation_65[0][0]']          \n",
      "                                                                                                  \n",
      " batch_normalization_66 (BatchN  (None, 27, 27, 64)  256         ['conv2d_113[0][0]']             \n",
      " ormalization)                                                                                    \n",
      "                                                                                                  \n",
      " conv2d_114 (Conv2D)            (None, 27, 27, 64)   4160        ['activation_64[0][0]']          \n",
      "                                                                                                  \n",
      " add_30 (Add)                   (None, 27, 27, 64)   0           ['batch_normalization_66[0][0]', \n",
      "                                                                  'conv2d_114[0][0]']             \n",
      "                                                                                                  \n",
      " activation_66 (Activation)     (None, 27, 27, 64)   0           ['add_30[0][0]']                 \n",
      "                                                                                                  \n",
      " conv2d_115 (Conv2D)            (None, 27, 27, 64)   36928       ['activation_66[0][0]']          \n",
      "                                                                                                  \n",
      " batch_normalization_67 (BatchN  (None, 27, 27, 64)  256         ['conv2d_115[0][0]']             \n",
      " ormalization)                                                                                    \n",
      "                                                                                                  \n",
      " activation_67 (Activation)     (None, 27, 27, 64)   0           ['batch_normalization_67[0][0]'] \n",
      "                                                                                                  \n",
      " conv2d_116 (Conv2D)            (None, 27, 27, 64)   36928       ['activation_67[0][0]']          \n",
      "                                                                                                  \n",
      " batch_normalization_68 (BatchN  (None, 27, 27, 64)  256         ['conv2d_116[0][0]']             \n",
      " ormalization)                                                                                    \n",
      "                                                                                                  \n",
      " add_31 (Add)                   (None, 27, 27, 64)   0           ['batch_normalization_68[0][0]', \n",
      "                                                                  'activation_66[0][0]']          \n",
      "                                                                                                  \n",
      " activation_68 (Activation)     (None, 27, 27, 64)   0           ['add_31[0][0]']                 \n",
      "                                                                                                  \n",
      " conv2d_117 (Conv2D)            (None, 14, 14, 128)  73856       ['activation_68[0][0]']          \n",
      "                                                                                                  \n",
      " batch_normalization_69 (BatchN  (None, 14, 14, 128)  512        ['conv2d_117[0][0]']             \n",
      " ormalization)                                                                                    \n",
      "                                                                                                  \n",
      " activation_69 (Activation)     (None, 14, 14, 128)  0           ['batch_normalization_69[0][0]'] \n",
      "                                                                                                  \n",
      " conv2d_118 (Conv2D)            (None, 14, 14, 128)  147584      ['activation_69[0][0]']          \n",
      "                                                                                                  \n",
      " batch_normalization_70 (BatchN  (None, 14, 14, 128)  512        ['conv2d_118[0][0]']             \n",
      " ormalization)                                                                                    \n",
      "                                                                                                  \n",
      " conv2d_119 (Conv2D)            (None, 14, 14, 128)  8320        ['activation_68[0][0]']          \n",
      "                                                                                                  \n",
      " add_32 (Add)                   (None, 14, 14, 128)  0           ['batch_normalization_70[0][0]', \n",
      "                                                                  'conv2d_119[0][0]']             \n",
      "                                                                                                  \n",
      " activation_70 (Activation)     (None, 14, 14, 128)  0           ['add_32[0][0]']                 \n",
      "                                                                                                  \n",
      " conv2d_120 (Conv2D)            (None, 14, 14, 128)  147584      ['activation_70[0][0]']          \n",
      "                                                                                                  \n",
      " batch_normalization_71 (BatchN  (None, 14, 14, 128)  512        ['conv2d_120[0][0]']             \n",
      " ormalization)                                                                                    \n",
      "                                                                                                  \n",
      " activation_71 (Activation)     (None, 14, 14, 128)  0           ['batch_normalization_71[0][0]'] \n",
      "                                                                                                  \n",
      " conv2d_121 (Conv2D)            (None, 14, 14, 128)  147584      ['activation_71[0][0]']          \n",
      "                                                                                                  \n",
      " batch_normalization_72 (BatchN  (None, 14, 14, 128)  512        ['conv2d_121[0][0]']             \n",
      " ormalization)                                                                                    \n",
      "                                                                                                  \n",
      " add_33 (Add)                   (None, 14, 14, 128)  0           ['batch_normalization_72[0][0]', \n"
     ]
    },
    {
     "name": "stdout",
     "output_type": "stream",
     "text": [
      "                                                                  'activation_70[0][0]']          \n",
      "                                                                                                  \n",
      " activation_72 (Activation)     (None, 14, 14, 128)  0           ['add_33[0][0]']                 \n",
      "                                                                                                  \n",
      " conv2d_122 (Conv2D)            (None, 7, 7, 256)    295168      ['activation_72[0][0]']          \n",
      "                                                                                                  \n",
      " batch_normalization_73 (BatchN  (None, 7, 7, 256)   1024        ['conv2d_122[0][0]']             \n",
      " ormalization)                                                                                    \n",
      "                                                                                                  \n",
      " activation_73 (Activation)     (None, 7, 7, 256)    0           ['batch_normalization_73[0][0]'] \n",
      "                                                                                                  \n",
      " conv2d_123 (Conv2D)            (None, 7, 7, 256)    590080      ['activation_73[0][0]']          \n",
      "                                                                                                  \n",
      " batch_normalization_74 (BatchN  (None, 7, 7, 256)   1024        ['conv2d_123[0][0]']             \n",
      " ormalization)                                                                                    \n",
      "                                                                                                  \n",
      " conv2d_124 (Conv2D)            (None, 7, 7, 256)    33024       ['activation_72[0][0]']          \n",
      "                                                                                                  \n",
      " add_34 (Add)                   (None, 7, 7, 256)    0           ['batch_normalization_74[0][0]', \n",
      "                                                                  'conv2d_124[0][0]']             \n",
      "                                                                                                  \n",
      " activation_74 (Activation)     (None, 7, 7, 256)    0           ['add_34[0][0]']                 \n",
      "                                                                                                  \n",
      " conv2d_125 (Conv2D)            (None, 7, 7, 256)    590080      ['activation_74[0][0]']          \n",
      "                                                                                                  \n",
      " batch_normalization_75 (BatchN  (None, 7, 7, 256)   1024        ['conv2d_125[0][0]']             \n",
      " ormalization)                                                                                    \n",
      "                                                                                                  \n",
      " activation_75 (Activation)     (None, 7, 7, 256)    0           ['batch_normalization_75[0][0]'] \n",
      "                                                                                                  \n",
      " conv2d_126 (Conv2D)            (None, 7, 7, 256)    590080      ['activation_75[0][0]']          \n",
      "                                                                                                  \n",
      " batch_normalization_76 (BatchN  (None, 7, 7, 256)   1024        ['conv2d_126[0][0]']             \n",
      " ormalization)                                                                                    \n",
      "                                                                                                  \n",
      " add_35 (Add)                   (None, 7, 7, 256)    0           ['batch_normalization_76[0][0]', \n",
      "                                                                  'activation_74[0][0]']          \n",
      "                                                                                                  \n",
      " activation_76 (Activation)     (None, 7, 7, 256)    0           ['add_35[0][0]']                 \n",
      "                                                                                                  \n",
      " conv2d_127 (Conv2D)            (None, 7, 7, 256)    590080      ['activation_76[0][0]']          \n",
      "                                                                                                  \n",
      " batch_normalization_77 (BatchN  (None, 7, 7, 256)   1024        ['conv2d_127[0][0]']             \n",
      " ormalization)                                                                                    \n",
      "                                                                                                  \n",
      " activation_77 (Activation)     (None, 7, 7, 256)    0           ['batch_normalization_77[0][0]'] \n",
      "                                                                                                  \n",
      " conv2d_128 (Conv2D)            (None, 7, 7, 256)    590080      ['activation_77[0][0]']          \n",
      "                                                                                                  \n",
      " batch_normalization_78 (BatchN  (None, 7, 7, 256)   1024        ['conv2d_128[0][0]']             \n",
      " ormalization)                                                                                    \n",
      "                                                                                                  \n",
      " add_36 (Add)                   (None, 7, 7, 256)    0           ['batch_normalization_78[0][0]', \n",
      "                                                                  'activation_76[0][0]']          \n",
      "                                                                                                  \n",
      " activation_78 (Activation)     (None, 7, 7, 256)    0           ['add_36[0][0]']                 \n",
      "                                                                                                  \n",
      " average_pooling2d_4 (AveragePo  (None, 3, 3, 256)   0           ['activation_78[0][0]']          \n",
      " oling2D)                                                                                         \n",
      "                                                                                                  \n",
      " flatten_14 (Flatten)           (None, 2304)         0           ['average_pooling2d_4[0][0]']    \n",
      "                                                                                                  \n",
      " dense_34 (Dense)               (None, 7)            16135       ['flatten_14[0][0]']             \n",
      "                                                                                                  \n",
      " dropout_24 (Dropout)           (None, 7)            0           ['dense_34[0][0]']               \n",
      "                                                                                                  \n",
      "==================================================================================================\n",
      "Total params: 3,982,791\n",
      "Trainable params: 3,978,055\n",
      "Non-trainable params: 4,736\n",
      "__________________________________________________________________________________________________\n",
      "  3/113 [..............................] - ETA: 3s "
     ]
    },
    {
     "name": "stderr",
     "output_type": "stream",
     "text": [
      "2023-02-27 08:52:31.310082: I tensorflow/core/grappler/optimizers/custom_graph_optimizer_registry.cc:114] Plugin optimizer for device_type GPU is enabled.\n"
     ]
    },
    {
     "name": "stdout",
     "output_type": "stream",
     "text": [
      "113/113 [==============================] - 5s 41ms/step\n",
      "  3/113 [..............................] - ETA: 3s "
     ]
    },
    {
     "name": "stderr",
     "output_type": "stream",
     "text": [
      "2023-02-27 08:52:36.159937: I tensorflow/core/grappler/optimizers/custom_graph_optimizer_registry.cc:114] Plugin optimizer for device_type GPU is enabled.\n"
     ]
    },
    {
     "name": "stdout",
     "output_type": "stream",
     "text": [
      "113/113 [==============================] - 7s 60ms/step\n"
     ]
    },
    {
     "name": "stderr",
     "output_type": "stream",
     "text": [
      "2023-02-27 08:52:43.249614: I tensorflow/core/grappler/optimizers/custom_graph_optimizer_registry.cc:114] Plugin optimizer for device_type GPU is enabled.\n"
     ]
    },
    {
     "name": "stdout",
     "output_type": "stream",
     "text": [
      "113/113 [==============================] - 10s 90ms/step\n"
     ]
    },
    {
     "data": {
      "text/html": [
       "<style>#sk-container-id-1 {color: black;background-color: white;}#sk-container-id-1 pre{padding: 0;}#sk-container-id-1 div.sk-toggleable {background-color: white;}#sk-container-id-1 label.sk-toggleable__label {cursor: pointer;display: block;width: 100%;margin-bottom: 0;padding: 0.3em;box-sizing: border-box;text-align: center;}#sk-container-id-1 label.sk-toggleable__label-arrow:before {content: \"▸\";float: left;margin-right: 0.25em;color: #696969;}#sk-container-id-1 label.sk-toggleable__label-arrow:hover:before {color: black;}#sk-container-id-1 div.sk-estimator:hover label.sk-toggleable__label-arrow:before {color: black;}#sk-container-id-1 div.sk-toggleable__content {max-height: 0;max-width: 0;overflow: hidden;text-align: left;background-color: #f0f8ff;}#sk-container-id-1 div.sk-toggleable__content pre {margin: 0.2em;color: black;border-radius: 0.25em;background-color: #f0f8ff;}#sk-container-id-1 input.sk-toggleable__control:checked~div.sk-toggleable__content {max-height: 200px;max-width: 100%;overflow: auto;}#sk-container-id-1 input.sk-toggleable__control:checked~label.sk-toggleable__label-arrow:before {content: \"▾\";}#sk-container-id-1 div.sk-estimator input.sk-toggleable__control:checked~label.sk-toggleable__label {background-color: #d4ebff;}#sk-container-id-1 div.sk-label input.sk-toggleable__control:checked~label.sk-toggleable__label {background-color: #d4ebff;}#sk-container-id-1 input.sk-hidden--visually {border: 0;clip: rect(1px 1px 1px 1px);clip: rect(1px, 1px, 1px, 1px);height: 1px;margin: -1px;overflow: hidden;padding: 0;position: absolute;width: 1px;}#sk-container-id-1 div.sk-estimator {font-family: monospace;background-color: #f0f8ff;border: 1px dotted black;border-radius: 0.25em;box-sizing: border-box;margin-bottom: 0.5em;}#sk-container-id-1 div.sk-estimator:hover {background-color: #d4ebff;}#sk-container-id-1 div.sk-parallel-item::after {content: \"\";width: 100%;border-bottom: 1px solid gray;flex-grow: 1;}#sk-container-id-1 div.sk-label:hover label.sk-toggleable__label {background-color: #d4ebff;}#sk-container-id-1 div.sk-serial::before {content: \"\";position: absolute;border-left: 1px solid gray;box-sizing: border-box;top: 0;bottom: 0;left: 50%;z-index: 0;}#sk-container-id-1 div.sk-serial {display: flex;flex-direction: column;align-items: center;background-color: white;padding-right: 0.2em;padding-left: 0.2em;position: relative;}#sk-container-id-1 div.sk-item {position: relative;z-index: 1;}#sk-container-id-1 div.sk-parallel {display: flex;align-items: stretch;justify-content: center;background-color: white;position: relative;}#sk-container-id-1 div.sk-item::before, #sk-container-id-1 div.sk-parallel-item::before {content: \"\";position: absolute;border-left: 1px solid gray;box-sizing: border-box;top: 0;bottom: 0;left: 50%;z-index: -1;}#sk-container-id-1 div.sk-parallel-item {display: flex;flex-direction: column;z-index: 1;position: relative;background-color: white;}#sk-container-id-1 div.sk-parallel-item:first-child::after {align-self: flex-end;width: 50%;}#sk-container-id-1 div.sk-parallel-item:last-child::after {align-self: flex-start;width: 50%;}#sk-container-id-1 div.sk-parallel-item:only-child::after {width: 0;}#sk-container-id-1 div.sk-dashed-wrapped {border: 1px dashed gray;margin: 0 0.4em 0.5em 0.4em;box-sizing: border-box;padding-bottom: 0.4em;background-color: white;}#sk-container-id-1 div.sk-label label {font-family: monospace;font-weight: bold;display: inline-block;line-height: 1.2em;}#sk-container-id-1 div.sk-label-container {text-align: center;}#sk-container-id-1 div.sk-container {/* jupyter's `normalize.less` sets `[hidden] { display: none; }` but bootstrap.min.css set `[hidden] { display: none !important; }` so we also need the `!important` here to be able to override the default hidden behavior on the sphinx rendered scikit-learn.org. See: https://github.com/scikit-learn/scikit-learn/issues/21755 */display: inline-block !important;position: relative;}#sk-container-id-1 div.sk-text-repr-fallback {display: none;}</style><div id=\"sk-container-id-1\" class=\"sk-top-container\"><div class=\"sk-text-repr-fallback\"><pre>SVC(kernel=&#x27;linear&#x27;)</pre><b>In a Jupyter environment, please rerun this cell to show the HTML representation or trust the notebook. <br />On GitHub, the HTML representation is unable to render, please try loading this page with nbviewer.org.</b></div><div class=\"sk-container\" hidden><div class=\"sk-item\"><div class=\"sk-estimator sk-toggleable\"><input class=\"sk-toggleable__control sk-hidden--visually\" id=\"sk-estimator-id-1\" type=\"checkbox\" checked><label for=\"sk-estimator-id-1\" class=\"sk-toggleable__label sk-toggleable__label-arrow\">SVC</label><div class=\"sk-toggleable__content\"><pre>SVC(kernel=&#x27;linear&#x27;)</pre></div></div></div></div></div>"
      ],
      "text/plain": [
       "SVC(kernel='linear')"
      ]
     },
     "execution_count": 22,
     "metadata": {},
     "output_type": "execute_result"
    }
   ],
   "source": [
    "from tensorflow.keras.models import load_model\n",
    "from sklearn.metrics import accuracy_score\n",
    "import numpy as np\n",
    "import pickle\n",
    "import tensorflow as tf\n",
    "from tensorflow import keras\n",
    "from tensorflow.keras.preprocessing.image import ImageDataGenerator\n",
    "from sklearn.svm import LinearSVC, SVC, NuSVC\n",
    "from sklearn.ensemble import VotingClassifier\n",
    "from sklearn.metrics import accuracy_score\n",
    "\n",
    "label_dict = {0:'Angry',1:'Disgust',2:'Fear',3:'Happy',4:'Neutral',5:'Sad',6:'Surprise'}\n",
    "\n",
    "# Define model architecture\n",
    "model_AlexNet = AlexNet((48,48,3), 7)\n",
    "model_VGGNet = VGGNet((48,48,3), 7)\n",
    "model_ResNet = ResNet()\n",
    "    \n",
    "# Load weights model\n",
    "model_AlexNet.load_weights('../weights/AlexNet_weighs_iters150.h5')\n",
    "model_VGGNet.load_weights('../weights/VGGNetcus_weights_100iters.h5')\n",
    "model_ResNet.load_weights('../weights/resNetcus_model_weighs-50iters.h5')\n",
    "\n",
    "alexnet_preds = model_AlexNet.predict(val_set)\n",
    "vggnet_preds = model_VGGNet.predict(val_set)\n",
    "resnet_preds = model_ResNet.predict(val_set)\n",
    "\n",
    "\n",
    "# Concatenate the predictions\n",
    "combined_pred = np.concatenate((alexnet_preds, vggnet_preds, resnet_preds), axis=1)\n",
    "\n",
    "svm_model = SVC(kernel='linear')\n",
    "svm_model.fit(combined_pred, val_set.classes)\n",
    "    \n",
    "    "
   ]
  },
  {
   "cell_type": "markdown",
   "metadata": {
    "id": "W9N88Si8rKjq"
   },
   "source": [
    "#Save model"
   ]
  },
  {
   "cell_type": "code",
   "execution_count": 23,
   "metadata": {
    "id": "B_v8qDv-Jtrc"
   },
   "outputs": [],
   "source": [
    "import pickle\n",
    "with open('model.pkl','wb') as f:\n",
    "    pickle.dump(svm_model,f)\n"
   ]
  },
  {
   "cell_type": "markdown",
   "metadata": {
    "id": "HRQ3-GAkutyh"
   },
   "source": [
    "# **Model evaluation:**"
   ]
  },
  {
   "cell_type": "code",
   "execution_count": 26,
   "metadata": {
    "id": "9Uzjp0ZFqR2m"
   },
   "outputs": [
    {
     "name": "stdout",
     "output_type": "stream",
     "text": [
      "Accuracy: 0.657286152131513\n"
     ]
    }
   ],
   "source": [
    "# Convert the validation data labels to numeric labels\n",
    "y_true = val_set.classes\n",
    "\n",
    "# Convert the SVM predictions to numeric labels\n",
    "y_pred = svm_model.predict(combined_pred)\n",
    "\n",
    "# Calculate the accuracy score\n",
    "accuracy = accuracy_score(y_true, y_pred)\n",
    "\n",
    "# Print the accuracy score\n",
    "print(\"Accuracy:\", accuracy)"
   ]
  },
  {
   "cell_type": "code",
   "execution_count": 27,
   "metadata": {
    "id": "M_4f0pr_MvTf"
   },
   "outputs": [
    {
     "data": {
      "image/png": "[encoded data removed]",
      "text/plain": [
       "<Figure size 1000x800 with 2 Axes>"
      ]
     },
     "metadata": {},
     "output_type": "display_data"
    }
   ],
   "source": [
    "\n",
    "label_dict = {0:'Angry',1:'Disgust',2:'Fear',3:'Happy',4:'Neutral',5:'Sad',6:'Surprise'}\n",
    "# Calculate the confusion matrix\n",
    "cm = confusion_matrix(y_true, y_pred)\n",
    "\n",
    "# Convert the values to ratios\n",
    "cm_ratios = cm / cm.sum(axis=1, keepdims=True)\n",
    "\n",
    "# Create a plot of the confusion matrix\n",
    "plt.figure(figsize=(10, 8))\n",
    "sns.heatmap(cm_ratios, annot=True, cmap='Blues', xticklabels=label_dict.values(), yticklabels=label_dict.values(), fmt='.2f')\n",
    "plt.xlabel('Predicted Labels')\n",
    "plt.ylabel('True Labels')\n",
    "plt.show()"
   ]
  },
  {
   "cell_type": "markdown",
   "metadata": {
    "id": "kY3YQl8xrNw3"
   },
   "source": [
    "#Load model and predict"
   ]
  },
  {
   "cell_type": "code",
   "execution_count": null,
   "metadata": {
    "id": "IU3HSxGJE30T"
   },
   "outputs": [],
   "source": [
    "from tensorflow.keras.preprocessing import image\n",
    "\n",
    "# Load the SVM model\n",
    "with open('model.pkl', 'rb') as f:\n",
    "    svm_loaded = pickle.load(f)\n",
    "\n",
    "# Load and preprocess the test image\n",
    "img = image.load_img(\"sad1.png\", target_size=(48, 48))\n",
    "img = image.img_to_array(img)\n",
    "img = img / 255.0\n",
    "img = np.expand_dims(img, axis=0)\n",
    "    \n",
    "# Obtain predictions from the pre-trained models\n",
    "alexnet_pred = model_AlexNet.predict(img)\n",
    "vggnet_pred = model_VGGNet.predict(img)\n",
    "resnet_pred = model_ResNet.predict(img)\n",
    "    \n",
    "# Concatenate the predictions\n",
    "combined_pred = np.concatenate((alexnet_pred, vggnet_pred, resnet_pred), axis=1)\n",
    "    \n",
    "    \n",
    "# Use the SVM model to predict the class label\n",
    "    \n",
    "svm_pred = svm_loaded.predict(combined_pred)\n",
    "    \n",
    "predicted_label = label_dict[svm_pred[0]]\n",
    "print(predicted_label)"
   ]
  }
 ],
 "metadata": {
  "accelerator": "GPU",
  "colab": {
   "collapsed_sections": [
    "URwdYfsiMltF",
    "g5RpZlMkPGG2"
   ],
   "private_outputs": true,
   "provenance": []
  },
  "gpuClass": "standard",
  "kernelspec": {
   "display_name": "Python 3.10 (tensorflow)",
   "language": "python",
   "name": "tensorflow"
  },
  "language_info": {
   "codemirror_mode": {
    "name": "ipython",
    "version": 3
   },
   "file_extension": ".py",
   "mimetype": "text/x-python",
   "name": "python",
   "nbconvert_exporter": "python",
   "pygments_lexer": "ipython3",
   "version": "3.8.16"
  }
 },
 "nbformat": 4,
 "nbformat_minor": 1
}
